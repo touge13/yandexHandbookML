{
  "cells": [
    {
      "cell_type": "markdown",
      "metadata": {
        "id": "1s2GHGJ1K1uh"
      },
      "source": [
        "## Лабораторная работа \"Линейные модели\""
      ]
    },
    {
      "cell_type": "markdown",
      "metadata": {
        "id": "Wy-GsKMLK1uk"
      },
      "source": [
        "Некоторые задачи в этом ноутбуке надо будет сдавать в [контест](https://new.contest.yandex.ru/60377/start). Когда сдаете туда код, не забудьте сверху прописать все нужные импорты."
      ]
    },
    {
      "cell_type": "markdown",
      "metadata": {
        "id": "Tjm0ejHfK1ul"
      },
      "source": [
        "Мы рассчитываем, что перед тем, как садиться за этот ноутбук, вы прочитали часть про регрессию главы \"Линейные модели\" хендбука по ML."
      ]
    },
    {
      "cell_type": "markdown",
      "metadata": {
        "id": "XeK9RFdNK1ul"
      },
      "source": [
        "Начнём с загрузки необходимых библиотек и функций.\n",
        "\n",
        "Параметр `seed` будет использоваться далее для инициализации генератора случайных чисел из библиотеки `numpy`."
      ]
    },
    {
      "cell_type": "code",
      "execution_count": 381,
      "metadata": {
        "id": "ckp6TITPK1ul",
        "pycharm": {
          "name": "#%%\n"
        }
      },
      "outputs": [],
      "source": [
        "import numpy as np\n",
        "import pandas as pd\n",
        "from typing import Optional, List\n",
        "\n",
        "import sklearn.base\n",
        "\n",
        "seed = 24"
      ]
    },
    {
      "cell_type": "markdown",
      "metadata": {
        "id": "gUoWdYEMK1um"
      },
      "source": [
        "В этом ноутбуке мы будем практиковаться на датасете [\"The Ames Iowa Housing Data\"](https://www.openml.org/d/41211). Здесь собраны описания и цены жилья в городе Эймс, штат Айова. Мы будем решать задачу предсказания цены (`Sale_Price`) по всем остальным признакам.\n",
        "\n",
        "И начнём мы, конечно, с того, что внимательно посмотрим на датасет: какие там есть объекты и какие признаки."
      ]
    },
    {
      "cell_type": "code",
      "execution_count": 382,
      "metadata": {
        "id": "wB9CDwb6K1un",
        "pycharm": {
          "name": "#%%\n"
        }
      },
      "outputs": [
        {
          "name": "stdout",
          "output_type": "stream",
          "text": [
            "Requirement already satisfied: numpy in /Library/Frameworks/Python.framework/Versions/3.12/lib/python3.12/site-packages (1.26.4)\n",
            "Requirement already satisfied: pandas in /Library/Frameworks/Python.framework/Versions/3.12/lib/python3.12/site-packages (2.2.2)\n",
            "Requirement already satisfied: scikit-learn in /Library/Frameworks/Python.framework/Versions/3.12/lib/python3.12/site-packages (1.4.2)\n",
            "Requirement already satisfied: matplotlib in /Library/Frameworks/Python.framework/Versions/3.12/lib/python3.12/site-packages (3.8.4)\n",
            "Requirement already satisfied: python-dateutil>=2.8.2 in /Library/Frameworks/Python.framework/Versions/3.12/lib/python3.12/site-packages (from pandas) (2.9.0.post0)\n",
            "Requirement already satisfied: pytz>=2020.1 in /Library/Frameworks/Python.framework/Versions/3.12/lib/python3.12/site-packages (from pandas) (2024.1)\n",
            "Requirement already satisfied: tzdata>=2022.7 in /Library/Frameworks/Python.framework/Versions/3.12/lib/python3.12/site-packages (from pandas) (2024.1)\n",
            "Requirement already satisfied: scipy>=1.6.0 in /Library/Frameworks/Python.framework/Versions/3.12/lib/python3.12/site-packages (from scikit-learn) (1.13.0)\n",
            "Requirement already satisfied: joblib>=1.2.0 in /Library/Frameworks/Python.framework/Versions/3.12/lib/python3.12/site-packages (from scikit-learn) (1.3.2)\n",
            "Requirement already satisfied: threadpoolctl>=2.0.0 in /Library/Frameworks/Python.framework/Versions/3.12/lib/python3.12/site-packages (from scikit-learn) (3.4.0)\n",
            "Requirement already satisfied: contourpy>=1.0.1 in /Library/Frameworks/Python.framework/Versions/3.12/lib/python3.12/site-packages (from matplotlib) (1.2.1)\n",
            "Requirement already satisfied: cycler>=0.10 in /Library/Frameworks/Python.framework/Versions/3.12/lib/python3.12/site-packages (from matplotlib) (0.12.1)\n",
            "Requirement already satisfied: fonttools>=4.22.0 in /Library/Frameworks/Python.framework/Versions/3.12/lib/python3.12/site-packages (from matplotlib) (4.50.0)\n",
            "Requirement already satisfied: kiwisolver>=1.3.1 in /Library/Frameworks/Python.framework/Versions/3.12/lib/python3.12/site-packages (from matplotlib) (1.4.5)\n",
            "Requirement already satisfied: packaging>=20.0 in /Library/Frameworks/Python.framework/Versions/3.12/lib/python3.12/site-packages (from matplotlib) (24.0)\n",
            "Requirement already satisfied: pillow>=8 in /Library/Frameworks/Python.framework/Versions/3.12/lib/python3.12/site-packages (from matplotlib) (10.3.0)\n",
            "Requirement already satisfied: pyparsing>=2.3.1 in /Library/Frameworks/Python.framework/Versions/3.12/lib/python3.12/site-packages (from matplotlib) (3.1.2)\n",
            "Requirement already satisfied: six>=1.5 in /Library/Frameworks/Python.framework/Versions/3.12/lib/python3.12/site-packages (from python-dateutil>=2.8.2->pandas) (1.16.0)\n",
            "Note: you may need to restart the kernel to use updated packages.\n",
            "  % Total    % Received % Xferd  Average Speed   Time    Time     Time  Current\n",
            "                                 Dload  Upload   Total   Spent    Left  Speed\n",
            "100 1646k    0 1646k    0     0  32026      0 --:--:--  0:00:52 --:--:-- 36295     0  27605      0 --:--:--  0:00:15 --:--:-- 28260--:--:--  0:00:21 --:--:-- 37635    0 --:--:--  0:00:26 --:--:-- 3621610k    0     0  33067      0 --:--:--  0:00:34 --:--:-- 36899\n"
          ]
        }
      ],
      "source": [
        "## Uncomment the line below to download data and install necessary packages\n",
        "## Maybe won't work on Windows :(\n",
        "\n",
        "%pip install numpy pandas scikit-learn matplotlib\n",
        "!curl https://api.openml.org/data/get_csv/20649135/file2ed11cebe25.arff > data.csv"
      ]
    },
    {
      "cell_type": "code",
      "execution_count": 383,
      "metadata": {
        "id": "-hZmDQonK1un",
        "pycharm": {
          "name": "#%%\n"
        }
      },
      "outputs": [
        {
          "data": {
            "text/html": [
              "<div>\n",
              "<style scoped>\n",
              "    .dataframe tbody tr th:only-of-type {\n",
              "        vertical-align: middle;\n",
              "    }\n",
              "\n",
              "    .dataframe tbody tr th {\n",
              "        vertical-align: top;\n",
              "    }\n",
              "\n",
              "    .dataframe thead th {\n",
              "        text-align: right;\n",
              "    }\n",
              "</style>\n",
              "<table border=\"1\" class=\"dataframe\">\n",
              "  <thead>\n",
              "    <tr style=\"text-align: right;\">\n",
              "      <th></th>\n",
              "      <th>MS_SubClass</th>\n",
              "      <th>MS_Zoning</th>\n",
              "      <th>Lot_Frontage</th>\n",
              "      <th>Lot_Area</th>\n",
              "      <th>Street</th>\n",
              "      <th>Alley</th>\n",
              "      <th>Lot_Shape</th>\n",
              "      <th>Land_Contour</th>\n",
              "      <th>Utilities</th>\n",
              "      <th>Lot_Config</th>\n",
              "      <th>...</th>\n",
              "      <th>Fence</th>\n",
              "      <th>Misc_Feature</th>\n",
              "      <th>Misc_Val</th>\n",
              "      <th>Mo_Sold</th>\n",
              "      <th>Year_Sold</th>\n",
              "      <th>Sale_Type</th>\n",
              "      <th>Sale_Condition</th>\n",
              "      <th>Sale_Price</th>\n",
              "      <th>Longitude</th>\n",
              "      <th>Latitude</th>\n",
              "    </tr>\n",
              "  </thead>\n",
              "  <tbody>\n",
              "    <tr>\n",
              "      <th>1520</th>\n",
              "      <td>Two_Story_1945_and_Older</td>\n",
              "      <td>Residential_High_Density</td>\n",
              "      <td>55</td>\n",
              "      <td>8525</td>\n",
              "      <td>Pave</td>\n",
              "      <td>No_Alley_Access</td>\n",
              "      <td>Regular</td>\n",
              "      <td>Bnk</td>\n",
              "      <td>AllPub</td>\n",
              "      <td>Inside</td>\n",
              "      <td>...</td>\n",
              "      <td>No_Fence</td>\n",
              "      <td>NaN</td>\n",
              "      <td>0</td>\n",
              "      <td>11</td>\n",
              "      <td>2008</td>\n",
              "      <td>WD</td>\n",
              "      <td>Abnorml</td>\n",
              "      <td>130000</td>\n",
              "      <td>-93.647024</td>\n",
              "      <td>42.019272</td>\n",
              "    </tr>\n",
              "    <tr>\n",
              "      <th>117</th>\n",
              "      <td>One_Story_1946_and_Newer_All_Styles</td>\n",
              "      <td>Residential_Low_Density</td>\n",
              "      <td>80</td>\n",
              "      <td>9600</td>\n",
              "      <td>Pave</td>\n",
              "      <td>No_Alley_Access</td>\n",
              "      <td>Regular</td>\n",
              "      <td>Lvl</td>\n",
              "      <td>AllPub</td>\n",
              "      <td>Inside</td>\n",
              "      <td>...</td>\n",
              "      <td>No_Fence</td>\n",
              "      <td>NaN</td>\n",
              "      <td>0</td>\n",
              "      <td>4</td>\n",
              "      <td>2010</td>\n",
              "      <td>WD</td>\n",
              "      <td>Normal</td>\n",
              "      <td>142250</td>\n",
              "      <td>-93.626137</td>\n",
              "      <td>42.046574</td>\n",
              "    </tr>\n",
              "    <tr>\n",
              "      <th>2000</th>\n",
              "      <td>One_Story_1945_and_Older</td>\n",
              "      <td>Residential_Medium_Density</td>\n",
              "      <td>90</td>\n",
              "      <td>8100</td>\n",
              "      <td>Pave</td>\n",
              "      <td>Paved</td>\n",
              "      <td>Regular</td>\n",
              "      <td>Lvl</td>\n",
              "      <td>AllPub</td>\n",
              "      <td>Inside</td>\n",
              "      <td>...</td>\n",
              "      <td>Good_Wood</td>\n",
              "      <td>NaN</td>\n",
              "      <td>0</td>\n",
              "      <td>6</td>\n",
              "      <td>2007</td>\n",
              "      <td>COD</td>\n",
              "      <td>Normal</td>\n",
              "      <td>153500</td>\n",
              "      <td>-93.609453</td>\n",
              "      <td>42.027757</td>\n",
              "    </tr>\n",
              "    <tr>\n",
              "      <th>1081</th>\n",
              "      <td>One_Story_PUD_1946_and_Newer</td>\n",
              "      <td>Residential_Medium_Density</td>\n",
              "      <td>0</td>\n",
              "      <td>3940</td>\n",
              "      <td>Pave</td>\n",
              "      <td>No_Alley_Access</td>\n",
              "      <td>Regular</td>\n",
              "      <td>Lvl</td>\n",
              "      <td>AllPub</td>\n",
              "      <td>Inside</td>\n",
              "      <td>...</td>\n",
              "      <td>No_Fence</td>\n",
              "      <td>NaN</td>\n",
              "      <td>0</td>\n",
              "      <td>5</td>\n",
              "      <td>2008</td>\n",
              "      <td>WD</td>\n",
              "      <td>Normal</td>\n",
              "      <td>219990</td>\n",
              "      <td>-93.640958</td>\n",
              "      <td>42.062299</td>\n",
              "    </tr>\n",
              "    <tr>\n",
              "      <th>1234</th>\n",
              "      <td>One_Story_1946_and_Newer_All_Styles</td>\n",
              "      <td>Residential_Low_Density</td>\n",
              "      <td>0</td>\n",
              "      <td>7390</td>\n",
              "      <td>Pave</td>\n",
              "      <td>No_Alley_Access</td>\n",
              "      <td>Slightly_Irregular</td>\n",
              "      <td>Lvl</td>\n",
              "      <td>AllPub</td>\n",
              "      <td>Inside</td>\n",
              "      <td>...</td>\n",
              "      <td>No_Fence</td>\n",
              "      <td>NaN</td>\n",
              "      <td>0</td>\n",
              "      <td>7</td>\n",
              "      <td>2008</td>\n",
              "      <td>WD</td>\n",
              "      <td>Normal</td>\n",
              "      <td>135000</td>\n",
              "      <td>-93.617179</td>\n",
              "      <td>42.042373</td>\n",
              "    </tr>\n",
              "    <tr>\n",
              "      <th>2243</th>\n",
              "      <td>One_Story_1946_and_Newer_All_Styles</td>\n",
              "      <td>C_all</td>\n",
              "      <td>65</td>\n",
              "      <td>6565</td>\n",
              "      <td>Pave</td>\n",
              "      <td>No_Alley_Access</td>\n",
              "      <td>Regular</td>\n",
              "      <td>Lvl</td>\n",
              "      <td>AllPub</td>\n",
              "      <td>Corner</td>\n",
              "      <td>...</td>\n",
              "      <td>No_Fence</td>\n",
              "      <td>NaN</td>\n",
              "      <td>0</td>\n",
              "      <td>8</td>\n",
              "      <td>2007</td>\n",
              "      <td>WD</td>\n",
              "      <td>Abnorml</td>\n",
              "      <td>140000</td>\n",
              "      <td>-93.615064</td>\n",
              "      <td>42.021422</td>\n",
              "    </tr>\n",
              "    <tr>\n",
              "      <th>2368</th>\n",
              "      <td>Two_Story_PUD_1946_and_Newer</td>\n",
              "      <td>Residential_Medium_Density</td>\n",
              "      <td>21</td>\n",
              "      <td>1680</td>\n",
              "      <td>Pave</td>\n",
              "      <td>No_Alley_Access</td>\n",
              "      <td>Regular</td>\n",
              "      <td>Lvl</td>\n",
              "      <td>AllPub</td>\n",
              "      <td>Inside</td>\n",
              "      <td>...</td>\n",
              "      <td>No_Fence</td>\n",
              "      <td>NaN</td>\n",
              "      <td>0</td>\n",
              "      <td>4</td>\n",
              "      <td>2006</td>\n",
              "      <td>WD</td>\n",
              "      <td>Abnorml</td>\n",
              "      <td>91500</td>\n",
              "      <td>-93.627328</td>\n",
              "      <td>42.051839</td>\n",
              "    </tr>\n",
              "    <tr>\n",
              "      <th>2824</th>\n",
              "      <td>Two_Story_1946_and_Newer</td>\n",
              "      <td>Residential_Low_Density</td>\n",
              "      <td>90</td>\n",
              "      <td>11060</td>\n",
              "      <td>Pave</td>\n",
              "      <td>No_Alley_Access</td>\n",
              "      <td>Slightly_Irregular</td>\n",
              "      <td>Lvl</td>\n",
              "      <td>AllPub</td>\n",
              "      <td>Corner</td>\n",
              "      <td>...</td>\n",
              "      <td>No_Fence</td>\n",
              "      <td>NaN</td>\n",
              "      <td>0</td>\n",
              "      <td>2</td>\n",
              "      <td>2006</td>\n",
              "      <td>ConLD</td>\n",
              "      <td>Normal</td>\n",
              "      <td>229000</td>\n",
              "      <td>-93.671612</td>\n",
              "      <td>42.018648</td>\n",
              "    </tr>\n",
              "    <tr>\n",
              "      <th>2104</th>\n",
              "      <td>One_Story_1946_and_Newer_All_Styles</td>\n",
              "      <td>Residential_Low_Density</td>\n",
              "      <td>68</td>\n",
              "      <td>8814</td>\n",
              "      <td>Pave</td>\n",
              "      <td>No_Alley_Access</td>\n",
              "      <td>Regular</td>\n",
              "      <td>Lvl</td>\n",
              "      <td>AllPub</td>\n",
              "      <td>Inside</td>\n",
              "      <td>...</td>\n",
              "      <td>No_Fence</td>\n",
              "      <td>NaN</td>\n",
              "      <td>0</td>\n",
              "      <td>1</td>\n",
              "      <td>2007</td>\n",
              "      <td>New</td>\n",
              "      <td>Partial</td>\n",
              "      <td>203000</td>\n",
              "      <td>-93.689071</td>\n",
              "      <td>42.024598</td>\n",
              "    </tr>\n",
              "    <tr>\n",
              "      <th>1739</th>\n",
              "      <td>Two_Story_1946_and_Newer</td>\n",
              "      <td>Residential_Low_Density</td>\n",
              "      <td>64</td>\n",
              "      <td>7713</td>\n",
              "      <td>Pave</td>\n",
              "      <td>No_Alley_Access</td>\n",
              "      <td>Regular</td>\n",
              "      <td>Lvl</td>\n",
              "      <td>AllPub</td>\n",
              "      <td>Inside</td>\n",
              "      <td>...</td>\n",
              "      <td>No_Fence</td>\n",
              "      <td>NaN</td>\n",
              "      <td>0</td>\n",
              "      <td>7</td>\n",
              "      <td>2007</td>\n",
              "      <td>New</td>\n",
              "      <td>Partial</td>\n",
              "      <td>177594</td>\n",
              "      <td>-93.644447</td>\n",
              "      <td>42.063106</td>\n",
              "    </tr>\n",
              "    <tr>\n",
              "      <th>1930</th>\n",
              "      <td>One_Story_1946_and_Newer_All_Styles</td>\n",
              "      <td>Residential_Low_Density</td>\n",
              "      <td>60</td>\n",
              "      <td>11556</td>\n",
              "      <td>Pave</td>\n",
              "      <td>No_Alley_Access</td>\n",
              "      <td>Regular</td>\n",
              "      <td>Lvl</td>\n",
              "      <td>AllPub</td>\n",
              "      <td>Inside</td>\n",
              "      <td>...</td>\n",
              "      <td>No_Fence</td>\n",
              "      <td>NaN</td>\n",
              "      <td>0</td>\n",
              "      <td>7</td>\n",
              "      <td>2007</td>\n",
              "      <td>WD</td>\n",
              "      <td>Normal</td>\n",
              "      <td>142000</td>\n",
              "      <td>-93.617242</td>\n",
              "      <td>42.041243</td>\n",
              "    </tr>\n",
              "    <tr>\n",
              "      <th>1242</th>\n",
              "      <td>One_Story_1946_and_Newer_All_Styles</td>\n",
              "      <td>Residential_Low_Density</td>\n",
              "      <td>80</td>\n",
              "      <td>11900</td>\n",
              "      <td>Pave</td>\n",
              "      <td>No_Alley_Access</td>\n",
              "      <td>Slightly_Irregular</td>\n",
              "      <td>Lvl</td>\n",
              "      <td>AllPub</td>\n",
              "      <td>Corner</td>\n",
              "      <td>...</td>\n",
              "      <td>No_Fence</td>\n",
              "      <td>NaN</td>\n",
              "      <td>0</td>\n",
              "      <td>6</td>\n",
              "      <td>2008</td>\n",
              "      <td>WD</td>\n",
              "      <td>Normal</td>\n",
              "      <td>166000</td>\n",
              "      <td>-93.613077</td>\n",
              "      <td>42.043820</td>\n",
              "    </tr>\n",
              "    <tr>\n",
              "      <th>2538</th>\n",
              "      <td>Split_or_Multilevel</td>\n",
              "      <td>Residential_Low_Density</td>\n",
              "      <td>80</td>\n",
              "      <td>9600</td>\n",
              "      <td>Pave</td>\n",
              "      <td>No_Alley_Access</td>\n",
              "      <td>Regular</td>\n",
              "      <td>Lvl</td>\n",
              "      <td>AllPub</td>\n",
              "      <td>Inside</td>\n",
              "      <td>...</td>\n",
              "      <td>No_Fence</td>\n",
              "      <td>NaN</td>\n",
              "      <td>0</td>\n",
              "      <td>7</td>\n",
              "      <td>2006</td>\n",
              "      <td>WD</td>\n",
              "      <td>Normal</td>\n",
              "      <td>158000</td>\n",
              "      <td>-93.626345</td>\n",
              "      <td>42.046570</td>\n",
              "    </tr>\n",
              "    <tr>\n",
              "      <th>2238</th>\n",
              "      <td>One_Story_1945_and_Older</td>\n",
              "      <td>Residential_Medium_Density</td>\n",
              "      <td>59</td>\n",
              "      <td>8263</td>\n",
              "      <td>Pave</td>\n",
              "      <td>No_Alley_Access</td>\n",
              "      <td>Regular</td>\n",
              "      <td>Bnk</td>\n",
              "      <td>AllPub</td>\n",
              "      <td>Inside</td>\n",
              "      <td>...</td>\n",
              "      <td>Minimum_Privacy</td>\n",
              "      <td>NaN</td>\n",
              "      <td>0</td>\n",
              "      <td>5</td>\n",
              "      <td>2007</td>\n",
              "      <td>WD</td>\n",
              "      <td>Normal</td>\n",
              "      <td>118400</td>\n",
              "      <td>-93.629496</td>\n",
              "      <td>42.021547</td>\n",
              "    </tr>\n",
              "    <tr>\n",
              "      <th>761</th>\n",
              "      <td>One_Story_1946_and_Newer_All_Styles</td>\n",
              "      <td>Residential_Low_Density</td>\n",
              "      <td>50</td>\n",
              "      <td>4280</td>\n",
              "      <td>Pave</td>\n",
              "      <td>No_Alley_Access</td>\n",
              "      <td>Slightly_Irregular</td>\n",
              "      <td>Lvl</td>\n",
              "      <td>AllPub</td>\n",
              "      <td>Inside</td>\n",
              "      <td>...</td>\n",
              "      <td>No_Fence</td>\n",
              "      <td>NaN</td>\n",
              "      <td>0</td>\n",
              "      <td>9</td>\n",
              "      <td>2009</td>\n",
              "      <td>WD</td>\n",
              "      <td>Normal</td>\n",
              "      <td>88750</td>\n",
              "      <td>-93.659205</td>\n",
              "      <td>42.032681</td>\n",
              "    </tr>\n",
              "    <tr>\n",
              "      <th>2641</th>\n",
              "      <td>Two_Story_1945_and_Older</td>\n",
              "      <td>Residential_Medium_Density</td>\n",
              "      <td>58</td>\n",
              "      <td>6451</td>\n",
              "      <td>Pave</td>\n",
              "      <td>Gravel</td>\n",
              "      <td>Regular</td>\n",
              "      <td>Lvl</td>\n",
              "      <td>AllPub</td>\n",
              "      <td>Inside</td>\n",
              "      <td>...</td>\n",
              "      <td>No_Fence</td>\n",
              "      <td>NaN</td>\n",
              "      <td>0</td>\n",
              "      <td>5</td>\n",
              "      <td>2006</td>\n",
              "      <td>WD</td>\n",
              "      <td>Normal</td>\n",
              "      <td>139900</td>\n",
              "      <td>-93.619513</td>\n",
              "      <td>42.031506</td>\n",
              "    </tr>\n",
              "    <tr>\n",
              "      <th>1164</th>\n",
              "      <td>Two_Story_PUD_1946_and_Newer</td>\n",
              "      <td>Floating_Village_Residential</td>\n",
              "      <td>34</td>\n",
              "      <td>3604</td>\n",
              "      <td>Pave</td>\n",
              "      <td>Paved</td>\n",
              "      <td>Regular</td>\n",
              "      <td>Lvl</td>\n",
              "      <td>AllPub</td>\n",
              "      <td>Corner</td>\n",
              "      <td>...</td>\n",
              "      <td>No_Fence</td>\n",
              "      <td>NaN</td>\n",
              "      <td>0</td>\n",
              "      <td>2</td>\n",
              "      <td>2008</td>\n",
              "      <td>WD</td>\n",
              "      <td>Abnorml</td>\n",
              "      <td>146000</td>\n",
              "      <td>-93.644891</td>\n",
              "      <td>42.047548</td>\n",
              "    </tr>\n",
              "    <tr>\n",
              "      <th>453</th>\n",
              "      <td>One_Story_PUD_1946_and_Newer</td>\n",
              "      <td>Residential_Low_Density</td>\n",
              "      <td>34</td>\n",
              "      <td>5122</td>\n",
              "      <td>Pave</td>\n",
              "      <td>No_Alley_Access</td>\n",
              "      <td>Slightly_Irregular</td>\n",
              "      <td>Lvl</td>\n",
              "      <td>AllPub</td>\n",
              "      <td>Inside</td>\n",
              "      <td>...</td>\n",
              "      <td>No_Fence</td>\n",
              "      <td>NaN</td>\n",
              "      <td>0</td>\n",
              "      <td>3</td>\n",
              "      <td>2009</td>\n",
              "      <td>WD</td>\n",
              "      <td>Normal</td>\n",
              "      <td>184500</td>\n",
              "      <td>-93.649723</td>\n",
              "      <td>42.059183</td>\n",
              "    </tr>\n",
              "    <tr>\n",
              "      <th>2343</th>\n",
              "      <td>One_and_Half_Story_Finished_All_Ages</td>\n",
              "      <td>Residential_Low_Density</td>\n",
              "      <td>0</td>\n",
              "      <td>13837</td>\n",
              "      <td>Pave</td>\n",
              "      <td>No_Alley_Access</td>\n",
              "      <td>Slightly_Irregular</td>\n",
              "      <td>Lvl</td>\n",
              "      <td>AllPub</td>\n",
              "      <td>Corner</td>\n",
              "      <td>...</td>\n",
              "      <td>No_Fence</td>\n",
              "      <td>NaN</td>\n",
              "      <td>0</td>\n",
              "      <td>2</td>\n",
              "      <td>2006</td>\n",
              "      <td>WD</td>\n",
              "      <td>Normal</td>\n",
              "      <td>229000</td>\n",
              "      <td>-93.637874</td>\n",
              "      <td>42.054367</td>\n",
              "    </tr>\n",
              "    <tr>\n",
              "      <th>2616</th>\n",
              "      <td>One_Story_1946_and_Newer_All_Styles</td>\n",
              "      <td>Residential_Low_Density</td>\n",
              "      <td>86</td>\n",
              "      <td>11650</td>\n",
              "      <td>Pave</td>\n",
              "      <td>No_Alley_Access</td>\n",
              "      <td>Regular</td>\n",
              "      <td>Lvl</td>\n",
              "      <td>AllPub</td>\n",
              "      <td>Corner</td>\n",
              "      <td>...</td>\n",
              "      <td>No_Fence</td>\n",
              "      <td>NaN</td>\n",
              "      <td>0</td>\n",
              "      <td>6</td>\n",
              "      <td>2006</td>\n",
              "      <td>WD</td>\n",
              "      <td>Normal</td>\n",
              "      <td>157500</td>\n",
              "      <td>-93.605384</td>\n",
              "      <td>42.041653</td>\n",
              "    </tr>\n",
              "  </tbody>\n",
              "</table>\n",
              "<p>20 rows × 81 columns</p>\n",
              "</div>"
            ],
            "text/plain": [
              "                               MS_SubClass                     MS_Zoning  \\\n",
              "1520              Two_Story_1945_and_Older      Residential_High_Density   \n",
              "117    One_Story_1946_and_Newer_All_Styles       Residential_Low_Density   \n",
              "2000              One_Story_1945_and_Older    Residential_Medium_Density   \n",
              "1081          One_Story_PUD_1946_and_Newer    Residential_Medium_Density   \n",
              "1234   One_Story_1946_and_Newer_All_Styles       Residential_Low_Density   \n",
              "2243   One_Story_1946_and_Newer_All_Styles                         C_all   \n",
              "2368          Two_Story_PUD_1946_and_Newer    Residential_Medium_Density   \n",
              "2824              Two_Story_1946_and_Newer       Residential_Low_Density   \n",
              "2104   One_Story_1946_and_Newer_All_Styles       Residential_Low_Density   \n",
              "1739              Two_Story_1946_and_Newer       Residential_Low_Density   \n",
              "1930   One_Story_1946_and_Newer_All_Styles       Residential_Low_Density   \n",
              "1242   One_Story_1946_and_Newer_All_Styles       Residential_Low_Density   \n",
              "2538                   Split_or_Multilevel       Residential_Low_Density   \n",
              "2238              One_Story_1945_and_Older    Residential_Medium_Density   \n",
              "761    One_Story_1946_and_Newer_All_Styles       Residential_Low_Density   \n",
              "2641              Two_Story_1945_and_Older    Residential_Medium_Density   \n",
              "1164          Two_Story_PUD_1946_and_Newer  Floating_Village_Residential   \n",
              "453           One_Story_PUD_1946_and_Newer       Residential_Low_Density   \n",
              "2343  One_and_Half_Story_Finished_All_Ages       Residential_Low_Density   \n",
              "2616   One_Story_1946_and_Newer_All_Styles       Residential_Low_Density   \n",
              "\n",
              "      Lot_Frontage  Lot_Area Street            Alley           Lot_Shape  \\\n",
              "1520            55      8525   Pave  No_Alley_Access             Regular   \n",
              "117             80      9600   Pave  No_Alley_Access             Regular   \n",
              "2000            90      8100   Pave            Paved             Regular   \n",
              "1081             0      3940   Pave  No_Alley_Access             Regular   \n",
              "1234             0      7390   Pave  No_Alley_Access  Slightly_Irregular   \n",
              "2243            65      6565   Pave  No_Alley_Access             Regular   \n",
              "2368            21      1680   Pave  No_Alley_Access             Regular   \n",
              "2824            90     11060   Pave  No_Alley_Access  Slightly_Irregular   \n",
              "2104            68      8814   Pave  No_Alley_Access             Regular   \n",
              "1739            64      7713   Pave  No_Alley_Access             Regular   \n",
              "1930            60     11556   Pave  No_Alley_Access             Regular   \n",
              "1242            80     11900   Pave  No_Alley_Access  Slightly_Irregular   \n",
              "2538            80      9600   Pave  No_Alley_Access             Regular   \n",
              "2238            59      8263   Pave  No_Alley_Access             Regular   \n",
              "761             50      4280   Pave  No_Alley_Access  Slightly_Irregular   \n",
              "2641            58      6451   Pave           Gravel             Regular   \n",
              "1164            34      3604   Pave            Paved             Regular   \n",
              "453             34      5122   Pave  No_Alley_Access  Slightly_Irregular   \n",
              "2343             0     13837   Pave  No_Alley_Access  Slightly_Irregular   \n",
              "2616            86     11650   Pave  No_Alley_Access             Regular   \n",
              "\n",
              "     Land_Contour Utilities Lot_Config  ...            Fence Misc_Feature  \\\n",
              "1520          Bnk    AllPub     Inside  ...         No_Fence          NaN   \n",
              "117           Lvl    AllPub     Inside  ...         No_Fence          NaN   \n",
              "2000          Lvl    AllPub     Inside  ...        Good_Wood          NaN   \n",
              "1081          Lvl    AllPub     Inside  ...         No_Fence          NaN   \n",
              "1234          Lvl    AllPub     Inside  ...         No_Fence          NaN   \n",
              "2243          Lvl    AllPub     Corner  ...         No_Fence          NaN   \n",
              "2368          Lvl    AllPub     Inside  ...         No_Fence          NaN   \n",
              "2824          Lvl    AllPub     Corner  ...         No_Fence          NaN   \n",
              "2104          Lvl    AllPub     Inside  ...         No_Fence          NaN   \n",
              "1739          Lvl    AllPub     Inside  ...         No_Fence          NaN   \n",
              "1930          Lvl    AllPub     Inside  ...         No_Fence          NaN   \n",
              "1242          Lvl    AllPub     Corner  ...         No_Fence          NaN   \n",
              "2538          Lvl    AllPub     Inside  ...         No_Fence          NaN   \n",
              "2238          Bnk    AllPub     Inside  ...  Minimum_Privacy          NaN   \n",
              "761           Lvl    AllPub     Inside  ...         No_Fence          NaN   \n",
              "2641          Lvl    AllPub     Inside  ...         No_Fence          NaN   \n",
              "1164          Lvl    AllPub     Corner  ...         No_Fence          NaN   \n",
              "453           Lvl    AllPub     Inside  ...         No_Fence          NaN   \n",
              "2343          Lvl    AllPub     Corner  ...         No_Fence          NaN   \n",
              "2616          Lvl    AllPub     Corner  ...         No_Fence          NaN   \n",
              "\n",
              "     Misc_Val Mo_Sold Year_Sold Sale_Type Sale_Condition Sale_Price  \\\n",
              "1520        0      11      2008       WD         Abnorml     130000   \n",
              "117         0       4      2010       WD          Normal     142250   \n",
              "2000        0       6      2007       COD         Normal     153500   \n",
              "1081        0       5      2008       WD          Normal     219990   \n",
              "1234        0       7      2008       WD          Normal     135000   \n",
              "2243        0       8      2007       WD         Abnorml     140000   \n",
              "2368        0       4      2006       WD         Abnorml      91500   \n",
              "2824        0       2      2006     ConLD         Normal     229000   \n",
              "2104        0       1      2007       New        Partial     203000   \n",
              "1739        0       7      2007       New        Partial     177594   \n",
              "1930        0       7      2007       WD          Normal     142000   \n",
              "1242        0       6      2008       WD          Normal     166000   \n",
              "2538        0       7      2006       WD          Normal     158000   \n",
              "2238        0       5      2007       WD          Normal     118400   \n",
              "761         0       9      2009       WD          Normal      88750   \n",
              "2641        0       5      2006       WD          Normal     139900   \n",
              "1164        0       2      2008       WD         Abnorml     146000   \n",
              "453         0       3      2009       WD          Normal     184500   \n",
              "2343        0       2      2006       WD          Normal     229000   \n",
              "2616        0       6      2006       WD          Normal     157500   \n",
              "\n",
              "      Longitude   Latitude  \n",
              "1520 -93.647024  42.019272  \n",
              "117  -93.626137  42.046574  \n",
              "2000 -93.609453  42.027757  \n",
              "1081 -93.640958  42.062299  \n",
              "1234 -93.617179  42.042373  \n",
              "2243 -93.615064  42.021422  \n",
              "2368 -93.627328  42.051839  \n",
              "2824 -93.671612  42.018648  \n",
              "2104 -93.689071  42.024598  \n",
              "1739 -93.644447  42.063106  \n",
              "1930 -93.617242  42.041243  \n",
              "1242 -93.613077  42.043820  \n",
              "2538 -93.626345  42.046570  \n",
              "2238 -93.629496  42.021547  \n",
              "761  -93.659205  42.032681  \n",
              "2641 -93.619513  42.031506  \n",
              "1164 -93.644891  42.047548  \n",
              "453  -93.649723  42.059183  \n",
              "2343 -93.637874  42.054367  \n",
              "2616 -93.605384  42.041653  \n",
              "\n",
              "[20 rows x 81 columns]"
            ]
          },
          "execution_count": 383,
          "metadata": {},
          "output_type": "execute_result"
        }
      ],
      "source": [
        "data = pd.read_csv('./data.csv')\n",
        "\n",
        "data.sample(20)"
      ]
    },
    {
      "cell_type": "code",
      "execution_count": 384,
      "metadata": {
        "id": "KP3ImCtGK1uo",
        "pycharm": {
          "name": "#%%\n"
        }
      },
      "outputs": [
        {
          "name": "stdout",
          "output_type": "stream",
          "text": [
            "<class 'pandas.core.frame.DataFrame'>\n",
            "RangeIndex: 2930 entries, 0 to 2929\n",
            "Data columns (total 81 columns):\n",
            " #   Column              Non-Null Count  Dtype  \n",
            "---  ------              --------------  -----  \n",
            " 0   MS_SubClass         2930 non-null   object \n",
            " 1   MS_Zoning           2930 non-null   object \n",
            " 2   Lot_Frontage        2930 non-null   int64  \n",
            " 3   Lot_Area            2930 non-null   int64  \n",
            " 4   Street              2930 non-null   object \n",
            " 5   Alley               2930 non-null   object \n",
            " 6   Lot_Shape           2930 non-null   object \n",
            " 7   Land_Contour        2930 non-null   object \n",
            " 8   Utilities           2930 non-null   object \n",
            " 9   Lot_Config          2930 non-null   object \n",
            " 10  Land_Slope          2930 non-null   object \n",
            " 11  Neighborhood        2930 non-null   object \n",
            " 12  Condition_1         2930 non-null   object \n",
            " 13  Condition_2         2930 non-null   object \n",
            " 14  Bldg_Type           2930 non-null   object \n",
            " 15  House_Style         2930 non-null   object \n",
            " 16  Overall_Qual        2930 non-null   object \n",
            " 17  Overall_Cond        2930 non-null   object \n",
            " 18  Year_Built          2930 non-null   int64  \n",
            " 19  Year_Remod_Add      2930 non-null   int64  \n",
            " 20  Roof_Style          2930 non-null   object \n",
            " 21  Roof_Matl           2930 non-null   object \n",
            " 22  Exterior_1st        2930 non-null   object \n",
            " 23  Exterior_2nd        2930 non-null   object \n",
            " 24  Mas_Vnr_Type        1155 non-null   object \n",
            " 25  Mas_Vnr_Area        2930 non-null   int64  \n",
            " 26  Exter_Qual          2930 non-null   object \n",
            " 27  Exter_Cond          2930 non-null   object \n",
            " 28  Foundation          2930 non-null   object \n",
            " 29  Bsmt_Qual           2930 non-null   object \n",
            " 30  Bsmt_Cond           2930 non-null   object \n",
            " 31  Bsmt_Exposure       2930 non-null   object \n",
            " 32  BsmtFin_Type_1      2930 non-null   object \n",
            " 33  BsmtFin_SF_1        2930 non-null   int64  \n",
            " 34  BsmtFin_Type_2      2930 non-null   object \n",
            " 35  BsmtFin_SF_2        2930 non-null   int64  \n",
            " 36  Bsmt_Unf_SF         2930 non-null   int64  \n",
            " 37  Total_Bsmt_SF       2930 non-null   int64  \n",
            " 38  Heating             2930 non-null   object \n",
            " 39  Heating_QC          2930 non-null   object \n",
            " 40  Central_Air         2930 non-null   object \n",
            " 41  Electrical          2930 non-null   object \n",
            " 42  First_Flr_SF        2930 non-null   int64  \n",
            " 43  Second_Flr_SF       2930 non-null   int64  \n",
            " 44  Low_Qual_Fin_SF     2930 non-null   int64  \n",
            " 45  Gr_Liv_Area         2930 non-null   int64  \n",
            " 46  Bsmt_Full_Bath      2930 non-null   int64  \n",
            " 47  Bsmt_Half_Bath      2930 non-null   int64  \n",
            " 48  Full_Bath           2930 non-null   int64  \n",
            " 49  Half_Bath           2930 non-null   int64  \n",
            " 50  Bedroom_AbvGr       2930 non-null   int64  \n",
            " 51  Kitchen_AbvGr       2930 non-null   int64  \n",
            " 52  Kitchen_Qual        2930 non-null   object \n",
            " 53  TotRms_AbvGrd       2930 non-null   int64  \n",
            " 54  Functional          2930 non-null   object \n",
            " 55  Fireplaces          2930 non-null   int64  \n",
            " 56  Fireplace_Qu        2930 non-null   object \n",
            " 57  Garage_Type         2930 non-null   object \n",
            " 58  Garage_Finish       2930 non-null   object \n",
            " 59  Garage_Cars         2930 non-null   int64  \n",
            " 60  Garage_Area         2930 non-null   int64  \n",
            " 61  Garage_Qual         2930 non-null   object \n",
            " 62  Garage_Cond         2930 non-null   object \n",
            " 63  Paved_Drive         2930 non-null   object \n",
            " 64  Wood_Deck_SF        2930 non-null   int64  \n",
            " 65  Open_Porch_SF       2930 non-null   int64  \n",
            " 66  Enclosed_Porch      2930 non-null   int64  \n",
            " 67  Three_season_porch  2930 non-null   int64  \n",
            " 68  Screen_Porch        2930 non-null   int64  \n",
            " 69  Pool_Area           2930 non-null   int64  \n",
            " 70  Pool_QC             2930 non-null   object \n",
            " 71  Fence               2930 non-null   object \n",
            " 72  Misc_Feature        106 non-null    object \n",
            " 73  Misc_Val            2930 non-null   int64  \n",
            " 74  Mo_Sold             2930 non-null   int64  \n",
            " 75  Year_Sold           2930 non-null   int64  \n",
            " 76  Sale_Type           2930 non-null   object \n",
            " 77  Sale_Condition      2930 non-null   object \n",
            " 78  Sale_Price          2930 non-null   int64  \n",
            " 79  Longitude           2930 non-null   float64\n",
            " 80  Latitude            2930 non-null   float64\n",
            "dtypes: float64(2), int64(33), object(46)\n",
            "memory usage: 1.8+ MB\n"
          ]
        }
      ],
      "source": [
        "data.info()"
      ]
    },
    {
      "cell_type": "markdown",
      "metadata": {
        "id": "BjxpXT4xK1uo"
      },
      "source": [
        "Разобьём данные на обучающую и тестовую выборки."
      ]
    },
    {
      "cell_type": "code",
      "execution_count": 385,
      "metadata": {
        "id": "aoC9zcGAK1uo",
        "pycharm": {
          "name": "#%%\n"
        }
      },
      "outputs": [
        {
          "name": "stdout",
          "output_type": "stream",
          "text": [
            "Train : (2344, 80) (2344,)\n",
            "Test : (586, 80) (586,)\n"
          ]
        }
      ],
      "source": [
        "from sklearn.model_selection import train_test_split\n",
        "\n",
        "target_column = \"Sale_Price\"\n",
        "np.random.seed(seed)\n",
        "\n",
        "test_size = 0.2\n",
        "data_train, data_test, Y_train, Y_test = train_test_split(\n",
        "    data[data.columns.drop(\"Sale_Price\")],\n",
        "    np.array(data[\"Sale_Price\"]),\n",
        "    test_size=test_size,\n",
        "    random_state=seed)\n",
        "\n",
        "print(f\"Train : {data_train.shape} {Y_train.shape}\")\n",
        "print(f\"Test : {data_test.shape} {Y_test.shape}\")"
      ]
    },
    {
      "cell_type": "markdown",
      "metadata": {
        "id": "WNCvCJaAK1uo"
      },
      "source": [
        "Среди признаков нам встретятся как вещественные, так и категориальные. Пока что выделим в качестве категориальных те, значениями которых являются не числа, а какие-то другие сущности (но имейте в виду, что численные с виду признаки тоже могут быть категориальными)."
      ]
    },
    {
      "cell_type": "code",
      "execution_count": 386,
      "metadata": {
        "id": "QK9MTesIK1up",
        "pycharm": {
          "name": "#%%\n"
        }
      },
      "outputs": [
        {
          "name": "stdout",
          "output_type": "stream",
          "text": [
            "Continuous : 34, Categorical : 46\n"
          ]
        }
      ],
      "source": [
        "continuous_columns = [key for key in data.keys() if data[key].dtype in (\"int64\", \"float64\")]\n",
        "categorical_columns = [key for key in data.keys() if data[key].dtype == \"object\"]\n",
        "\n",
        "continuous_columns.remove(target_column)\n",
        "\n",
        "print(f\"Continuous : {len(continuous_columns)}, Categorical : {len(categorical_columns)}\")"
      ]
    },
    {
      "cell_type": "markdown",
      "metadata": {
        "id": "kEjtSzMcK1up"
      },
      "source": [
        "Посмотрим на заголовки признаков. В целом, многие названия вполне говорящие, и можно догадаться, что стоит за этими признаками."
      ]
    },
    {
      "cell_type": "code",
      "execution_count": 387,
      "metadata": {
        "id": "L_PprkEPK1up",
        "pycharm": {
          "name": "#%%\n"
        }
      },
      "outputs": [
        {
          "data": {
            "text/plain": [
              "['Lot_Frontage',\n",
              " 'Lot_Area',\n",
              " 'Year_Built',\n",
              " 'Year_Remod_Add',\n",
              " 'Mas_Vnr_Area',\n",
              " 'BsmtFin_SF_1',\n",
              " 'BsmtFin_SF_2',\n",
              " 'Bsmt_Unf_SF',\n",
              " 'Total_Bsmt_SF',\n",
              " 'First_Flr_SF',\n",
              " 'Second_Flr_SF',\n",
              " 'Low_Qual_Fin_SF',\n",
              " 'Gr_Liv_Area',\n",
              " 'Bsmt_Full_Bath',\n",
              " 'Bsmt_Half_Bath',\n",
              " 'Full_Bath',\n",
              " 'Half_Bath',\n",
              " 'Bedroom_AbvGr',\n",
              " 'Kitchen_AbvGr',\n",
              " 'TotRms_AbvGrd',\n",
              " 'Fireplaces',\n",
              " 'Garage_Cars',\n",
              " 'Garage_Area',\n",
              " 'Wood_Deck_SF',\n",
              " 'Open_Porch_SF',\n",
              " 'Enclosed_Porch',\n",
              " 'Three_season_porch',\n",
              " 'Screen_Porch',\n",
              " 'Pool_Area',\n",
              " 'Misc_Val',\n",
              " 'Mo_Sold',\n",
              " 'Year_Sold',\n",
              " 'Longitude',\n",
              " 'Latitude']"
            ]
          },
          "execution_count": 387,
          "metadata": {},
          "output_type": "execute_result"
        }
      ],
      "source": [
        "continuous_columns"
      ]
    },
    {
      "cell_type": "markdown",
      "metadata": {
        "id": "dSh9iDYUK1up"
      },
      "source": [
        "Одна из целей этого ноутбука — познакомить вас с fit-predict (fit-transform) интерфейсом, типичным для многих реализаций моделей машинного обучения и для различных инструментов работы с данными.\n",
        "\n",
        "Множество фреймворков машинного обучения (например, scikit-learn, CatBoost) содержат в себе модели и алгоритмы, которые описаны в виде классов, у которых есть два ключевых метода: fit и predict (transform). Давайте разберёмся, что делают эти методы.\n",
        "\n",
        "***fit*** — метод для обучения алгоритма. Он получает на входе данные и таргеты для обучения, после чего обновляет состояние класса. После использования метода fit считается, что объект класса готов к использованию. Внутри этого метода может быть что угодно: обучение модели, подбор гиперпараметров, подсчет статистик и т. д.\n",
        "\n",
        "***predict*** — метод для предсказания , обученного с помощью _fit_. В задаче регрессии это оценка параметра, в задаче классификации предсказанный класс.\n",
        "\n",
        "***transform*** — стилистический синоним _predict_, но используется в классах, которые реализуют преобразования данных, например, масштабирование признаков или кодирование категориальных фичей.\n",
        "\n",
        "***fit_transform*** — метод который учится на данных, а потом их же преобразовывает."
      ]
    },
    {
      "cell_type": "markdown",
      "metadata": {
        "id": "2QVOr2SrK1up"
      },
      "source": [
        "### 1. Базовая предобработка данных"
      ]
    },
    {
      "cell_type": "markdown",
      "metadata": {
        "id": "IWi5LNwHK1up"
      },
      "source": [
        "Отметим два важных свойства линейной регрессии:\n",
        "\n",
        "- строго говоря, она умеет работать только с вещественными признаками\n",
        "- если признаки имеют разный масштаб при сопоставимой важности, регрессия может проигнорировать те, что имеют меньший масштаб\n",
        "\n",
        "Первое соображение заставляет придумывать способы борьбы с категориальными признаками, и мы начнём с самого простого: проигнорируем их.\n",
        "\n",
        "Второе соображение приводит к необходимости приводить признаки к одному масштабу (\"нормализовать фичи\"). В `sklearn` для этого есть два основных класса:\n",
        "\n",
        "- [sklearn.preprocessing.StandardScaler](https://scikit-learn.org/stable/modules/generated/sklearn.preprocessing.StandardScaler.html) - в каждой колонке вычитает среднее и делит на стандартное отклонение.\n",
        "- [sklearn.preprocessing.MinMaxScaler](https://scikit-learn.org/stable/modules/generated/sklearn.preprocessing.MinMaxScaler.html) - в каждой колонке вычитает минимальное значение и делит на разницу между минимальным и максимальным.\n",
        "\n",
        "Применяются они в соответствии с описанной выше философией. Например:\n",
        "\n",
        "```\n",
        "scaler = StandardScaler()\n",
        "X_train = scaler.fit_transform(X_train)\n",
        "X_test = scaler.transform(X_test)\n",
        "```\n",
        "\n",
        "Обратите внимание, что scaler настраивается на обучающей выборке (именно по ней вычисляются среднее и стандартное отклонение), а к тестовой он применяется с уже подсчитанными статистиками.\n",
        "\n",
        "**Вопрос**. А зачем? Почему бы не нормировать отдельно обучающую и тестовую выборку? Почему бы не настроить наш scaler на объединении двух выборок? Ведь благодаря большему количеству данных мы бы настроили его точнее!\n",
        "<p>\n",
        "<details>\n",
        "  <summary>Кликните, чтобы узнать ответ</summary>\n",
        "\n",
        "Если мы по-разному отнормируем обучающую и тестовую выборки, то нам будет весьма сложно применять модель, обученную на одной из них, к другой. Это просто не будет иметь физического смысла.\n",
        "\n",
        "Настраивать что-либо на тестовой выборке — это очень плохая идея. Тестовая выборка должна быть неким независимым мерилом качества наших усилий по предсказанию, а если мы разрешим информации о распределении признаков в тестовой выборке \"протечь\" в процесс обучения, то мы эту независимость испортим.\n",
        "\n",
        "</details>"
      ]
    },
    {
      "cell_type": "markdown",
      "metadata": {
        "id": "refOuBa2K1up"
      },
      "source": [
        "Итак, мы решили делать преобразование данных, которое состоит в:\n",
        "\n",
        "- сохранении лишь непрерывных фичей;\n",
        "- нормализации этих фичей (давайте остановимся на [sklearn.preprocessing.StandardScaler](https://scikit-learn.org/stable/modules/generated/sklearn.preprocessing.StandardScaler.html))\n",
        "\n",
        "В этом пункте вам нужно будет сделать класс такой предобработки данных, причём оформим мы его в виде класса с интерфейсом fit-transform.\n",
        "\n",
        "Несколько важных соображений:\n",
        "\n",
        "1. В прошлой лабораторной метод fit у нас ничего не возвращал, но правильнее сделать так, чтобы метод fit возвращал сам класс. В частности, это позволит нам писать model = model.fit().\n",
        "\n",
        "2. Первоначальный анализ данных удобно делать, когда они лежат в pd.DataFrame, т к у этого класса много методов, которые малым количеством телодвижений позволяют считать статистики и строить графики. Модели же проще учить, когда данные лежат в np.array, потому большое количество библиотек, где реализованы алгоритмы машинного обучения совместимы именно с numpy. Поэтому сделайте так, чтобы метод transform получал на вход pd.Dataframe, а возвращал np.array.\n",
        "\n",
        "3. В sklearn есть классы, от которых можно отнаследоваться, чтобы сделать класс с [fit-predict](https://scikit-learn.org/stable/modules/generated/sklearn.base.RegressorMixin.html#sklearn.base.RegressorMixin) или [fit-transform](https://scikit-learn.org/stable/modules/generated/sklearn.base.TransformerMixin.html) интерфейсом. Это очень полезно, т к позволит вам в дальнейшем пользоваться методами [GridSearchCV](https://scikit-learn.org/stable/modules/generated/sklearn.model_selection.GridSearchCV.html) и подобными. В этом пункте отнаследуйтесь от второго.\n",
        "\n",
        "4. У метода __init__ должен быть параметр ```needed_columns=None```. Туда передается список колонок, которые нужно взять из датафрейме. Делать это надо в ```fit``` и ```transform```. В случае если если он равен None, то класс оставляет все колонки из исходного набора данных.\n",
        "\n",
        "5. Обратите внимание, что достаточно реализовать `fit` и `transform`, а метод `fit_transform` из них слепит родительский класс.\n",
        "\n",
        "**Готовый препроцессор вам нужно будет сдать в Контест**"
      ]
    },
    {
      "cell_type": "code",
      "execution_count": 388,
      "metadata": {
        "id": "deONxYcGK1uq",
        "pycharm": {
          "name": "#%%\n"
        }
      },
      "outputs": [],
      "source": [
        "from sklearn.preprocessing import StandardScaler\n",
        "from sklearn.base import TransformerMixin\n",
        "\n",
        "class BaseDataPreprocessor(TransformerMixin):\n",
        "    def __init__(self, needed_columns: Optional[List[str]]=None):\n",
        "        \"\"\"\n",
        "        :param needed_columns: if not None select these columns from the dataframe\n",
        "        \"\"\"\n",
        "        self.needed_columns = needed_columns\n",
        "        self.scaler = StandardScaler()\n",
        "\n",
        "    def fit(self, data, *args):\n",
        "        \"\"\"\n",
        "        Prepares the class for future transformations\n",
        "        :param data: pd.DataFrame with all available columns\n",
        "        :return: self\n",
        "        \"\"\"\n",
        "        if self.needed_columns is not None:\n",
        "            data = data[self.needed_columns]\n",
        "        self.scaler.fit(data)\n",
        "        return self\n",
        "\n",
        "    def transform(self, data: pd.DataFrame) -> np.array:\n",
        "        \"\"\"\n",
        "        Transforms features so that they can be fed into the regressors\n",
        "        :param data: pd.DataFrame with all available columns\n",
        "        :return: np.array with preprocessed features\n",
        "        \"\"\"\n",
        "        if self.needed_columns is not None: \n",
        "            data = data[self.needed_columns]\n",
        "        data = self.scaler.transform(data)\n",
        "        return data"
      ]
    },
    {
      "cell_type": "markdown",
      "metadata": {},
      "source": [
        "Логика использования fit и transform:\n",
        "\n",
        "Сначала вызывается fit, чтобы вычислить средние значения и стандартные отклонения по обучающим данным.\n",
        "\n",
        "Затем transform применяет эти вычисленные параметры для преобразования новых данных, что позволяет гарантировать, что данные находятся в одной и той же шкале, когда они передаются в модель для предсказания."
      ]
    },
    {
      "cell_type": "markdown",
      "metadata": {},
      "source": [
        "В текущей реализации метода transform возвращается объект типа np.array, а не pd.DataFrame потому что метод transform класса StandardScaler из библиотеки scikit-learn возвращает именно массив NumPy."
      ]
    },
    {
      "cell_type": "markdown",
      "metadata": {},
      "source": [
        "Наследование от TransformerMixin предоставляет метод fit_transform, который сочетает в себе fit и transform в одном вызове. "
      ]
    },
    {
      "cell_type": "markdown",
      "metadata": {},
      "source": [
        "Также можно добавить BaseEstimator, который предоставляет методы get_params и set_params. Это позволяет легко изменять параметры и использовать наш класс в гиперпараметрической оптимизации, например, с GridSearchCV или RandomizedSearchCV:\n",
        "```\n",
        "from sklearn.base import BaseEstimator\n",
        "class BaseDataPreprocessor(BaseEstimator, TransformerMixin):\n",
        "    ...\n",
        "```\n"
      ]
    },
    {
      "cell_type": "markdown",
      "metadata": {
        "id": "zKeWoQ1SK1uq"
      },
      "source": [
        "**1. Сдайте вашу реализацию в Контест, задача «Простая предобработка».**"
      ]
    },
    {
      "cell_type": "code",
      "execution_count": 389,
      "metadata": {
        "id": "-4LkDFASK1uq",
        "pycharm": {
          "name": "#%%\n"
        }
      },
      "outputs": [],
      "source": [
        "preprocessor = BaseDataPreprocessor(needed_columns=continuous_columns)\n",
        "\n",
        "X_train = preprocessor.fit_transform(data_train)\n",
        "X_test = preprocessor.transform(data_test)"
      ]
    },
    {
      "cell_type": "markdown",
      "metadata": {
        "id": "p14ruXEjK1uq"
      },
      "source": [
        "### 1.2 Умная предобработка данных"
      ]
    },
    {
      "cell_type": "markdown",
      "metadata": {
        "id": "8erGdYK-K1uq"
      },
      "source": [
        "Теперь давайте попробуем сделать что-нибудь поинтереснее. Для того, чтобы будущие алгоритмы регрессии работали хорошо, они должны обучаться и предсказывать на информативных фичах. Зачастую оказывается гораздо продуктивнее потратить какое-то время на изучение предметной области и придумывание хороших фичей (feature engineering), нежели жадно перебирать все известные алгоритмы машинного обучения.\n",
        "В этом пункте попробуйте придумать новых фичей и написать новый класс предобработки данных, который их добавляет (а, возможно, и убирает ещё какие-то старые).\n",
        "\n",
        "В конце этого пункта в раскрывашке перечислены наши идеи относительно того, что можно было добавить."
      ]
    },
    {
      "cell_type": "code",
      "execution_count": 390,
      "metadata": {
        "id": "Ob8_T-DRK1uq",
        "pycharm": {
          "name": "#%%\n"
        }
      },
      "outputs": [],
      "source": [
        "class SmartDataPreprocessor(TransformerMixin):\n",
        "    def __init__(self, needed_columns: Optional[List[str]] = None):\n",
        "        self.scalar = StandardScaler()\n",
        "        self.needed_columns = needed_columns\n",
        "        self.city_center_coords = (42.034534, -93.620369)\n",
        "        self.median_lot_frontage = None\n",
        "        self.median_distance_from_city_center = None\n",
        "\n",
        "    # Этот метод вычисляет расстояние между двумя точками на поверхности Земли, \n",
        "    # используя формулу Гаверсина. Она принимает широту и долготу двух точек \n",
        "    # (одна из которых является центром города), и возвращает расстояние между \n",
        "    # этими точками в километрах.\n",
        "    def haversine(self, lat1, lon1, lat2, lon2):\n",
        "        from math import radians, cos, sin, sqrt, atan2\n",
        "        R = 6371  # радиус Земли (км)\n",
        "        dlat = radians(lat2 - lat1)\n",
        "        dlon = radians(lat2 - lon1)\n",
        "        a = sin(dlat / 2) ** 2 + cos(radians(lat1)) * cos(radians(lat2)) * sin(dlon / 2) ** 2\n",
        "        c = 2 * atan2(sqrt(a), sqrt(1 - a))\n",
        "        distance = R * c\n",
        "        return distance\n",
        "\n",
        "    def fit(self, X, y=None):\n",
        "        self.median_lot_frontage = X['Lot_Frontage'].median()\n",
        "        self.median_distance_from_city_center = X.apply(\n",
        "            lambda row: self.haversine(row['Latitude'], row['Longitude'], self.city_center_coords[0], self.city_center_coords[1]), axis=1).median()\n",
        "        # X.apply(...).median() это просто числовое значение\n",
        "        \n",
        "        self.scalar.fit(X[self.needed_columns])\n",
        "        return self\n",
        "\n",
        "    def transform(self, X):\n",
        "        # add new features\n",
        "        X['House_Age'] = X['Year_Sold'] - X['Year_Built']\n",
        "        X['Remodel_Age'] = X['Year_Sold'] - X['Year_Remod_Add']\n",
        "        X['Total_Square_Footage'] = X['First_Flr_SF'] + X['Second_Flr_SF'] + X['Total_Bsmt_SF']\n",
        "        X['Has_FirePlace'] = X['Fireplaces'] > 0\n",
        "        X['Has_Pool'] = X['Pool_Area'] > 0\n",
        "\n",
        "        # добавляем новый столбец в DataFrame X, который называется Distance_From_City_Center\n",
        "        X['Distance_From_City_Center'] = X.apply(\n",
        "            lambda row: self.haversine(row['Latitude'], row['Longitude'], self.city_center_coords[0], self.city_center_coords[1]), axis=1)\n",
        "        # X.apply(...) имеет тип данных Series\n",
        "\n",
        "        # Заполняем пропущенные значения в колонке расстояний медианой, рассчитанной в методе fit.\n",
        "        X['Distance_From_City_Center'].fillna(self.median_distance_from_city_center, inplace=True)\n",
        "        \n",
        "        # Заполняем пропущенные значения в колонке Lot_Frontage медианой, рассчитанной в методе fit.\n",
        "        X['Lot_Frontage'].fillna(self.median_lot_frontage, inplace=True)\n",
        "        \n",
        "        # Оставляем только нужные колонки, указанные в needed_columns.\n",
        "        X = X[self.needed_columns]\n",
        "        \n",
        "        # Масштабируем данные\n",
        "        X = self.scalar.transform(X)\n",
        "        return X"
      ]
    },
    {
      "cell_type": "markdown",
      "metadata": {},
      "source": [
        "Метод 'fit' используется для вычисления необходимых статистик, таких как медианы и параметры масштабирования, которые зависят от обучающего набора данных. В этом методе вы подготавливаете все, что потребуется для трансформации данных, но не изменяете сами данные.\n",
        "\n",
        "Метод 'transform' используется для фактического преобразования набора данных, применяя вычисленные статистики и добавляя новые признаки."
      ]
    },
    {
      "cell_type": "code",
      "execution_count": 391,
      "metadata": {
        "id": "ceqVElj8K1uq",
        "pycharm": {
          "name": "#%%\n"
        }
      },
      "outputs": [],
      "source": [
        "# preprocessor = SmartDataPreprocessor(needed_columns=continuous_columns)\n",
        "#\n",
        "# X_train = preprocessor.fit_transform(data_train)\n",
        "# X_test = preprocessor.transform(data_test)"
      ]
    },
    {
      "cell_type": "markdown",
      "metadata": {
        "id": "dCZ-Ud9OK1ur"
      },
      "source": [
        "<details>\n",
        "  <summary>Пара простых идей. Кликните, когда будете готовы</summary>\n",
        "\n",
        "Например в датасете есть координаты квартиры, которые по идее сами по себе мало чего дают нашему регрессору. С другой стороны, по ним можно оценить центр города (или просто найти его на карте) и использовать в качестве фичи расстояние до центра города, которое может естественным образом влиять на цену жилья.\n",
        "\n",
        "Ещё может быть полезным почистить пропуски. И тут есть хитрость. Если вы просто вызовете data.info(), то вам покажется, что пропусков нет, но они могут приходить под разными обличьями. Например, у 490 объектов параметр Lot_Frontage (площадь фасада) равен нулю. Неожиданно, правда? Возможно, мы хотим эти нулевые значения заменить чем-нибудь, скажем, медианой.\n",
        "\n",
        "</details>\n"
      ]
    },
    {
      "cell_type": "markdown",
      "metadata": {
        "id": "aIt68R29K1ur"
      },
      "source": [
        "### 2. Линейная регрессия"
      ]
    },
    {
      "cell_type": "markdown",
      "metadata": {
        "id": "Ydi2yHwqK1ur"
      },
      "source": [
        "Давайте получим базовое решение (бейзлайн), чтобы потом с ним можно было сравниваться.\n",
        "\n",
        "Обучите линейную регрессию на обучающей выборке (которую мы подвергли преобразованию BaseDataPreprocessor). В библиотеке Sklearn есть релизация [без регуляризации](https://scikit-learn.org/stable/modules/generated/sklearn.linear_model.LinearRegression.html?highlight=linear%20regression), [с L2-регуляризацией](https://scikit-learn.org/stable/modules/generated/sklearn.linear_model.Ridge.html#sklearn.linear_model.Ridge) и [с L1-регуляризацией](https://scikit-learn.org/stable/modules/generated/sklearn.linear_model.Lasso).\n",
        "\n",
        "Начнём с обычной регрессии. Получите предсказания на тестовых данных и оцените на них качество модели. В качестве метрики оценки качества возьмите [средний модуль отклонения](https://scikit-learn.org/stable/modules/generated/sklearn.metrics.mean_absolute_error.html) (mean absolute error, MAE). Как вам кажется, насколько хорошей вышла модель?\n"
      ]
    },
    {
      "cell_type": "code",
      "execution_count": 392,
      "metadata": {
        "id": "d8AAt9_tK1ur",
        "pycharm": {
          "name": "#%%\n"
        }
      },
      "outputs": [
        {
          "name": "stdout",
          "output_type": "stream",
          "text": [
            "MAE (no regularization) = 2522960657.734511\n"
          ]
        }
      ],
      "source": [
        "# Без регуляризации\n",
        "\n",
        "from sklearn.linear_model import LinearRegression\n",
        "from sklearn.metrics import mean_squared_error\n",
        "\n",
        "lin_reg = LinearRegression()\n",
        "lin_reg.fit(X_train, Y_train)\n",
        "Y_pred_reg = lin_reg.predict(X_test)\n",
        "\n",
        "print(\"MAE (no regularization) =\", mean_squared_error(Y_test, Y_pred_reg))"
      ]
    },
    {
      "cell_type": "code",
      "execution_count": 393,
      "metadata": {},
      "outputs": [
        {
          "name": "stdout",
          "output_type": "stream",
          "text": [
            "MAE (L1) = 2522935755.966237\n"
          ]
        }
      ],
      "source": [
        "# L1 регуляризация\n",
        "\n",
        "from sklearn.linear_model import Lasso\n",
        "\n",
        "lasso_reg = Lasso(alpha=0.1)  # Параметр alpha контролирует степень регуляризации\n",
        "lasso_reg.fit(X_train, Y_train)\n",
        "Y_pred_lasso = lasso_reg.predict(X_test)\n",
        "\n",
        "print(\"MAE (L1) =\", mean_squared_error(Y_test, Y_pred_lasso))"
      ]
    },
    {
      "cell_type": "markdown",
      "metadata": {
        "id": "js3L8W-AK1ur"
      },
      "source": [
        "Теперь попробуйте L2-регуляризованную модель Ridge(). Какие значения метрик она даёт?"
      ]
    },
    {
      "cell_type": "code",
      "execution_count": 394,
      "metadata": {
        "id": "XnMAW-74K1ur",
        "pycharm": {
          "name": "#%%\n"
        }
      },
      "outputs": [
        {
          "name": "stdout",
          "output_type": "stream",
          "text": [
            "MAE (L2) = 2522787309.8872004\n"
          ]
        }
      ],
      "source": [
        "# L2 регуляризация\n",
        "\n",
        "from sklearn.linear_model import Ridge\n",
        "\n",
        "ridge_reg = Ridge(alpha=0.1)\n",
        "ridge_reg.fit(X_train, Y_train)\n",
        "Y_pred_ridge = ridge_reg.predict(X_test)\n",
        "\n",
        "print(\"MAE (L2) =\", mean_squared_error(Y_test, Y_pred_ridge))"
      ]
    },
    {
      "cell_type": "markdown",
      "metadata": {
        "id": "s940mdAmK1ur"
      },
      "source": [
        "В целом, регуляризация редко портит модель, но важно правильно подобрать коэффициент регуляризации. Как именно — поговорим дальше."
      ]
    },
    {
      "cell_type": "markdown",
      "metadata": {
        "id": "5iTC8BpaK1ur"
      },
      "source": [
        "### 3. Выбор метрики"
      ]
    },
    {
      "cell_type": "markdown",
      "metadata": {
        "id": "vpjjz37cK1ur"
      },
      "source": [
        "Средний модуль ошибки (MAE) — в целом довольно хорошая метрика для задачи регрессии, потому что ее довольно легко проинтерпретировать. Но с ней есть одна проблема: ошибиться на $ 10 000 $ USD в предсказании цены квартиры стоимостью $ 100 000 $ USD страшнее чем допустить такую ошибку в предсказании цены жилья за $ 700 000 $ USD. Иными словами более показательной метрикой будет не абсолютная  ошибка $ error_i = |y_i - \\hat{y_i}|$, а логарифм относительной ошибки $error_i = log \\frac{y_i}{\\hat{y_i}} $. Также давайте обычное усреднение по всем примерам в тестовой выборке заменим на среднеквадратичное $ \\frac{1}{N} \\sum_i^{test} {error_i} \\longrightarrow \\sqrt{\\frac{1}{N} \\sum_i^{test}{(error_i)^2}}$. Итоговая метрика получается равной:\n",
        "\n",
        "$$\n",
        "Metric = \\sqrt{\\frac{1}{N} \\sum_{i=1}^{N} (log(y_i) - log(\\hat{y_i}))^2}\n",
        "$$\n",
        "\n",
        "Логично? Да. Но возникает еще одна проблема. Логарифм нельзя брать от отрицательного числа. Бороться с этим можно двумя способами.\n",
        "- Случай когда отрицательное число затисалось в target-ax не очень разумен, т. к. цена на дом не может быть отрицательной. В этом случае стоит кинуть ошибку, чтобы пользователь этой функции еще раз перепроверил правильные ли таргеты он подает.\n",
        "- В целом, у нас нет гарантий того, что наша модель (например линейная) предсказывает только положительные числа. Брать логарифм от отрицательного числа не получится, но качество такой модели все еще надо оценить. Давайте все предсказания, которые меньше некоторого порога $ a_{min} $, заменять этим порогом ($ \\hat{y_i} \\longleftarrow max(\\hat{y_i}, a_{min}) $), после чего подавать их в метрику. Для прохождения тестов возьмите $ a_{min} = 1 $.\n",
        "\n",
        "**2. Реализуйте эту метрику и сдайте в контест**."
      ]
    },
    {
      "cell_type": "code",
      "execution_count": 395,
      "metadata": {
        "id": "OAgpUi26K1ur",
        "pycharm": {
          "name": "#%%\n"
        }
      },
      "outputs": [],
      "source": [
        "def root_mean_squared_logarithmic_error(y_true, y_pred, a_min=1.):\n",
        "    assert len(y_true) == len(y_pred), \"The length of true values and predicted values must be the same.\"\n",
        "    assert np.all(y_true >= 0), \"All true values must be non-negative.\"\n",
        "    \n",
        "    y_pred = np.maximum(y_pred, a_min)\n",
        "    return np.sqrt(np.mean((np.log(y_true) - np.log(y_pred)) ** 2))"
      ]
    },
    {
      "cell_type": "code",
      "execution_count": 396,
      "metadata": {},
      "outputs": [
        {
          "name": "stdout",
          "output_type": "stream",
          "text": [
            "RMSLE (no regularization) = 0.19510317164341626\n",
            "RMSLE (L1) = 0.1950407844483607\n",
            "RMSLE (L2) = 0.19503810952872347\n"
          ]
        }
      ],
      "source": [
        "print(\"RMSLE (no regularization) =\", root_mean_squared_logarithmic_error(Y_test, Y_pred_reg))\n",
        "print(\"RMSLE (L1) =\", root_mean_squared_logarithmic_error(Y_test, Y_pred_lasso))\n",
        "print(\"RMSLE (L2) =\", root_mean_squared_logarithmic_error(Y_test, Y_pred_ridge))"
      ]
    },
    {
      "cell_type": "markdown",
      "metadata": {
        "id": "UABi31oTK1ur"
      },
      "source": [
        "### 4. Логарифмирование таргета."
      ]
    },
    {
      "cell_type": "markdown",
      "metadata": {
        "id": "yns3YwN-K1ur"
      },
      "source": [
        "Вообще идея с логарифмированием таргета довольно хороша для этой задачи. Давайте посмотрим на распределение обычных и логарифмированных таргетов."
      ]
    },
    {
      "cell_type": "code",
      "execution_count": 397,
      "metadata": {
        "id": "JWb77b3uK1us",
        "pycharm": {
          "name": "#%%\n"
        }
      },
      "outputs": [],
      "source": [
        "import matplotlib.pyplot as plt\n",
        "\n",
        "def plot_target_distribution(Y_train, Y_test, ax, n_bins=20):\n",
        "    ax.hist(Y_train, bins=n_bins, label=\"train\", color=\"red\", alpha=0.3, density=True)\n",
        "    ax.hist(Y_test, bins=n_bins, label=\"test\", color=\"blue\", alpha=0.3, density=True)\n",
        "\n",
        "    ax.legend()\n",
        "    ax.set_xlabel(\"Value\")\n",
        "    ax.set_ylabel(\"Probability\")\n",
        "\n",
        "\n",
        "def plot_both_distributions(Y_train, Y_test):\n",
        "    fig, (ax0, ax1) = plt.subplots(ncols=2, nrows=1, figsize=(15, 6))\n",
        "\n",
        "    plot_target_distribution(Y_train, Y_test, ax=ax0)\n",
        "    ax0.set_title(\"Standard\")\n",
        "\n",
        "    plot_target_distribution(np.log(Y_train), np.log(Y_test), ax=ax1)\n",
        "    ax1.set_title(\"Logarithmic\")"
      ]
    },
    {
      "cell_type": "code",
      "execution_count": 398,
      "metadata": {
        "id": "IOkOnHqKK1uv",
        "pycharm": {
          "name": "#%%\n"
        }
      },
      "outputs": [
        {
          "data": {
            "image/png": "[encoded data removed]",
            "text/plain": [
              "<Figure size 1500x600 with 2 Axes>"
            ]
          },
          "metadata": {},
          "output_type": "display_data"
        }
      ],
      "source": [
        "plot_both_distributions(Y_train, Y_test)"
      ]
    },
    {
      "cell_type": "markdown",
      "metadata": {
        "id": "8sdqyU7tK1uv"
      },
      "source": [
        "Как видите, если прологарифмировать таргеты, то их распределение станет более похоже на гауссовское. Интуиция подсказывает, что линейная регрессия с MSE loss-функцией должна лучше учиться на таких таргетах.\n",
        "\n",
        "Попробуйте написать класс, который во время обучения логарифмирует таргет, а во время предсказания — наоборот, экспоненциирует. После чего обучите оба метода на обучающих данных и сравните значения метрик MAE (Mean Squared Error) и MSLE (Mean squared logarithmic error) на тесте."
      ]
    },
    {
      "cell_type": "markdown",
      "metadata": {},
      "source": [
        "exp(ln x) = x"
      ]
    },
    {
      "cell_type": "markdown",
      "metadata": {
        "id": "1qyR7QyiK1uv"
      },
      "source": [
        "Что должно быть в этом классе:\n",
        "- Класс должен называться ```ExponentialLinearRegression```\n",
        "- Класс должен иметь такой же fit-predict интерфейс, как и было до этого. На вход он получает оригинальные X и Y, а уже внутри происходит логарифмирование или экспоненциирование.\n",
        "- Внутри этой модели будет работать [Ridge](https://scikit-learn.org/stable/modules/generated/sklearn.linear_model.Ridge.html). Хочется, чтобы этому классу можно было передавать аргументы инициализации с помощью *args и **kwargs\n",
        "- Чтобы потом этот класс можно было использовать в [GridSearchCV](https://scikit-learn.org/stable/modules/generated/sklearn.model_selection.GridSearchCV.html) в следующих пунктах, у него должны быть реализованы 5 методов\n",
        "    1. ```__init__(self, *args, **kwargs)``` - все полученные аргументы передаются дальше в Ridge.\n",
        "    2. ```fit(self, X, Y)``` - обучает класс, возвращает self.\n",
        "    3. ```predict(self, X)``` - делает предсказание.\n",
        "    4. ```get_params(deep=True)``` - возвращает dict с параметрами модели. Больще подробностей [здесь](https://scikit-learn.org/stable/modules/generated/sklearn.base.BaseEstimator.html)\n",
        "    5. ```set_params(**params)``` - передает нужные параметры в модель. Больше подробносте [здесь](https://scikit-learn.org/stable/modules/generated/sklearn.base.BaseEstimator.html)\n",
        "- Есть два подхода к тому как сделать все нужные методы:\n",
        "    - Отнаследоваться от класса Ridge и переопределить методы fit и predict, внутри вызывая super() от отцовского класса.\n",
        "    - Отнаследоваться от класса RegressorMixin и внутренним атрибутом класса сделать Ridge. Тогда все методы нужно будет писать руками."
      ]
    },
    {
      "cell_type": "code",
      "execution_count": 399,
      "metadata": {
        "id": "IOnOVLY_K1uv",
        "pycharm": {
          "name": "#%%\n"
        }
      },
      "outputs": [],
      "source": [
        "from sklearn.base import BaseEstimator, RegressorMixin\n",
        "\n",
        "class ExponentialLinearRegression(BaseEstimator, RegressorMixin):\n",
        "    def __init__(self, **params):\n",
        "        self.model = Ridge(**params) # Инициализация Ridge регрессора с переданными параметрами\n",
        "\n",
        "    def fit(self, X, Y):\n",
        "        Y_log = np.log(Y) # Логарифмируем таргет\n",
        "        self.model.fit(X, Y_log)\n",
        "        return self\n",
        "\n",
        "    def predict(self, X):\n",
        "        Y_log = self.model.predict(X)\n",
        "        return np.exp(Y_log) # Экспоненцирование таргета (exp(ln x) = x)\n",
        "    \n",
        "    def get_params(self, *args, **kwargs):\n",
        "        return self.model.get_params(*args, **kwargs)\n",
        "\n",
        "    def set_params(self, *args, **kwargs):\n",
        "        self.model.set_params(*args, **kwargs)"
      ]
    },
    {
      "cell_type": "markdown",
      "metadata": {
        "id": "hfGTYwdMK1uv"
      },
      "source": [
        "**3. Реализуйте этот класс и сдайте в контест**."
      ]
    },
    {
      "cell_type": "code",
      "execution_count": 400,
      "metadata": {
        "id": "cBnuMKpTK1uv"
      },
      "outputs": [
        {
          "name": "stdout",
          "output_type": "stream",
          "text": [
            "MAE  : Classic : 23821.97776100681  Exponential : 26818.6997865444\n",
            "MSLE : Classic : 0.1950062123328133 Exponential : 0.21601027716185434\n"
          ]
        }
      ],
      "source": [
        "from sklearn.metrics import mean_absolute_error\n",
        "\n",
        "classic_regressor = Ridge()\n",
        "exponential_regressor = ExponentialLinearRegression()\n",
        "\n",
        "classic_regressor.fit(X_train, Y_train)\n",
        "exponential_regressor.fit(X_train, Y_train)\n",
        "\n",
        "classic_prediction = classic_regressor.predict(X_test)\n",
        "exponential_prediction = exponential_regressor.predict(X_test)\n",
        "\n",
        "print(f\"MAE  : Classic : {mean_absolute_error(Y_test, classic_prediction)}  Exponential : {mean_absolute_error(Y_test, exponential_prediction)}\")\n",
        "print(f\"MSLE : Classic : {root_mean_squared_logarithmic_error(Y_test, classic_prediction)} Exponential : {root_mean_squared_logarithmic_error(Y_test, exponential_prediction)}\")"
      ]
    },
    {
      "cell_type": "markdown",
      "metadata": {
        "id": "mL9H6Fe0K1uw"
      },
      "source": [
        "Иногда получается так, что разные обученные вами модели приводят к улучшению одних метрик и ухудшению других. Это абсолютно нормально и этому не надо удивляться.\n",
        "\n",
        "Также зачастую случается так, что прирост по метрике не очень большой. И вы можете захотеть убедиться, что это реальное улучшение, а не просто случайная флуктуация. Для этого можно использовать подсчёт метрики про кросс-валидации (подробнее о ней можно почитать в соответствующей главе учебника). Суть метода в следующем:\n",
        "\n",
        "- мы разбиваем (случайным образом!) доступную нам выборку на $K$ (часто $K=5$) частей, которые называются _фолдами_\n",
        "- мы обучаем нашу модель $K$ раз, уча на всех фолдах, кроме одного, а на этом одном тестируя\n",
        "- мы получаем $K$ значений метрики, которые вместе дают нам лучшее представление о том, как ведёт себя модель на разных разбиениях на трейн и тест. В качестве итоговой метрики можно, к примеру, взять среднее полученных значений\n",
        "\n",
        "Сделать всё это можно с помощью обёртки [cross_val_score](https://scikit-learn.org/stable/modules/generated/sklearn.model_selection.cross_val_score.html), в которую можно подать модель, датасет и интересующую вас метрику. При этом оценку по кросс-валидации можно делать на всей доступной у вас выборке (ибо кросс-валидация уже включает разбиение на трейн и тест).\n",
        "\n",
        "Вычислите оценки MAE по кросс-валидации обычной (не регуляризованной) линейной регрессии и ExponentialLinearRegression на объединении обучающей и тестовой выборок.\n",
        "\n",
        "**4. Посчитайте и сдайте две оценки по кросс-валидации в Контест**.\n",
        "\n",
        "По шагам вам нужно\n",
        "1. Применить BaseDataPreprocessor к исходным данным\n",
        "2. Объединить трейн и тест\n",
        "3. Для первого числа использовать LinearRegression()\n",
        "4. Для второго -ExponentialLinearRegression с Ridge()\n",
        "5. Разбиение на фолды сделать с помощью `cv=KFold(n_splits=5, shuffle=True, random_state=42)`\n",
        "\n",
        "Обратите внимание, что параметр scoring — это не совсем функция-метрика, а немного более сложный объект, который можно соорудить, например, с помощью обёртки [make_scorer](https://scikit-learn.org/stable/modules/generated/sklearn.metrics.make_scorer.html#sklearn.metrics.make_scorer).\n",
        "\n",
        "Также имейте в виду, что, вообще говоря, с дефолтным значением параметра `cv` кросс-валидация разбивает датасет на фолды детерминированным образом. Если вам нужно случайное разбиение, то в качестве cv стоит подать объект класса `sklearn.model_selection.KFold` или `sklearn.model_selection.StratifiedKFold`. Используйте\n",
        "\n",
        "```\n",
        "cv=KFold(n_splits=5, shuffle=True, random_state=42)\n",
        "```"
      ]
    },
    {
      "cell_type": "markdown",
      "metadata": {
        "id": "VtgOlv6tK1uw",
        "pycharm": {
          "name": "#%% md\n"
        }
      },
      "source": [
        "Также при написании кода для кросс-валидации вам может пригодиться знание о пайплайнах.\n",
        "\n",
        "Представьте ситуацию. Прошел месяц с того момента, как вы построили модель, а теперь вам надо дообучить её на новых данных и активно применять для предсказания. Если вы не позаботились об инфраструктуре, то вам придётся рыскать по всему ноутбуку в поисках того, как вы предобрабатывали данные, какую модель учили, обязательно что-нибудь забудете и будете очень страдать. Поэтому человечество придумало пайплайны, которые позволяют объединить предобработку данных и обучение модели в один класс - pipeline. Его можно писать самому, либо взять из sklearn ([link](https://scikit-learn.org/stable/modules/generated/sklearn.pipeline.Pipeline.html))"
      ]
    },
    {
      "cell_type": "markdown",
      "metadata": {},
      "source": [
        "В библиотеке scikit-learn (или sklearn) модуль Pipeline используется для упрощения процесса создания и управления последовательностью шагов обработки данных и моделей машинного обучения. Он позволяет объединить несколько шагов в одну цепочку, что облегчает процесс построения и оценки моделей, особенно когда требуется выполнить несколько предобработок перед обучением модели.\n",
        "\n",
        "Как работает Pipeline?\n",
        "Pipeline состоит из последовательности шагов, каждый из которых представляет собой кортеж с именем шага и объектом, реализующим метод fit. Каждый шаг, кроме последнего, должен иметь метод transform, который будет применяться к данным. Последний шаг должен иметь метод fit."
      ]
    },
    {
      "cell_type": "code",
      "execution_count": 401,
      "metadata": {
        "id": "u3e3dNSaK1uw",
        "pycharm": {
          "name": "#%%\n"
        }
      },
      "outputs": [
        {
          "name": "stdout",
          "output_type": "stream",
          "text": [
            "Mean MAE (LinearRegression): 23222.643893618802\n",
            "Mean MAE (ExponentialLinearRegression): 21166.681537752724\n"
          ]
        }
      ],
      "source": [
        "from sklearn.pipeline import Pipeline\n",
        "from sklearn.model_selection import cross_val_score, KFold\n",
        "from sklearn.metrics import make_scorer, mean_absolute_error\n",
        "\n",
        "mae_scorer = make_scorer(mean_absolute_error)\n",
        "\n",
        "# Объединение данных\n",
        "X_concatenated = np.concatenate((X_train, X_test), axis=0) # BaseDataPreprocessor уже применен к X_train, X_test выше\n",
        "Y_concatenated = np.concatenate((Y_train, Y_test), axis=0)\n",
        "\n",
        "# Создадим пайплайны\n",
        "pipeline_Linear = Pipeline([\n",
        "    # ('preprocessor', BaseDataPreprocessor()),         #Наши данные уже обработаны, поэтому повторного вызова BaseDataPreprocessor не требуется\n",
        "    ('regressor', LinearRegression())\n",
        "])\n",
        "\n",
        "pipeline_Exponential = Pipeline([\n",
        "    # ('preprocessor', BaseDataPreprocessor()),         #Наши данные уже обработаны, поэтому повторного вызова BaseDataPreprocessor не требуется\n",
        "    ('regressor', ExponentialLinearRegression())\n",
        "])\n",
        "\n",
        "# Кросс-валидация\n",
        "cv = KFold(n_splits=5, shuffle=True, random_state=42)\n",
        "\n",
        "scores_Linear = cross_val_score(pipeline_Linear, X_concatenated, Y_concatenated, cv=cv, scoring=mae_scorer)\n",
        "print(\"Mean MAE (LinearRegression):\", np.mean(scores_Linear))\n",
        "\n",
        "scores_Exponential = cross_val_score(pipeline_Exponential, X_concatenated, Y_concatenated, cv=cv, scoring=mae_scorer)\n",
        "print(\"Mean MAE (ExponentialLinearRegression):\", np.mean(scores_Exponential))\n",
        "\n"
      ]
    },
    {
      "cell_type": "markdown",
      "metadata": {},
      "source": [
        "Для сдачи контеста, нужно разкомментировать ('preprocessor', BaseDataPreprocessor()), и получить метрику 23226, но я не вижу смысла обрабатывать данные повторно. При нормализации данных мы теряем информацию, но делаем данные более равномерными, что зачастую хорошо для модели, но в данном случае, при повторной нормализации, данные становятся менее качественными, метрика МАЕ становится хуже (принцип less=good), поэтому я решил оставить #('preprocessor', BaseDataPreprocessor())"
      ]
    },
    {
      "cell_type": "markdown",
      "metadata": {
        "id": "rjFgAA4YK1uw"
      },
      "source": [
        "### 5. Подбор гиперпараметров"
      ]
    },
    {
      "cell_type": "markdown",
      "metadata": {
        "id": "siKQL7pIK1uw"
      },
      "source": [
        "Линейную регрессию почти всегда можно улучшить с помощью регуляризации. Но при этом у нас возникает **гиперпараметр** — коэффициент регуляризации, и подбирать его нужно правильно. Более подробно о подборе гиперпараметров вы можете прочитать в соответствующей главе учебника), а пока мы разберём самые базовые подходы.\n",
        "\n",
        "В этой лабораторной вы познакомитесь с самым тривиальным способом — подбором по сетке. В данном случае это значит, что мы фиксируем несколько значений коэффициента регуляризации ```alpha``` и просто для каждого из них смотрим, что получится. Но важно отметить, что коэффициенты регуляризации стоит перебирать по _логарифмической_ сетке, например: `1e-2, 1e-1, 1, 1e+1, 1e+2`.\n"
      ]
    },
    {
      "cell_type": "markdown",
      "metadata": {},
      "source": [
        "Логарифмическая сетка называется так потому, что её масштабирование основано на логарифмических интервалах. Это означает, что значения на такой сетке распределены по логарифмической шкале, а не по линейной. Рассмотрим нашу сетку: `1e-2, 1e-1, 1, 1e+1, 1e+2`.\n",
        "\n",
        "В этой сетке значения соответствуют степеням числа 10:\n",
        "\n",
        "- \\(1e-2 = 10^{-2} = 0.01\\)\n",
        "- \\(1e-1 = 10^{-1} = 0.1\\)\n",
        "- \\(1 = 10^0 = 1\\)\n",
        "- \\(1e+1 = 10^1 = 10\\)\n",
        "- \\(1e+2 = 10^2 = 100\\)\n",
        "\n",
        "Между соседними значениями в логарифмической сетке существует одинаковый логарифмический шаг. Например:\n",
        "\n",
        "- \\(\\log_{10}(0.1) - \\log_{10}(0.01) = -1 - (-2) = 1\\)\n",
        "- \\(\\log_{10}(1) - \\log_{10}(0.1) = 0 - (-1) = 1\\)\n",
        "- \\(\\log_{10}(10) - \\log_{10}(1) = 1 - 0 = 1\\)\n",
        "- \\(\\log_{10}(100) - \\log_{10}(10) = 2 - 1 = 1\\)\n",
        "\n",
        "Каждое из этих интервалов в логарифмическом масштабе равно 1. Поэтому сетка распределена равномерно в логарифмическом масштабе, хотя в линейном масштабе расстояния между точками увеличиваются или уменьшаются экспоненциально.\n",
        "\n",
        "Такой подход удобен, например, при работе с данными, охватывающими широкий диапазон значений, поскольку он позволяет лучше визуализировать и анализировать данные, которые могут варьироваться от очень маленьких до очень больших чисел."
      ]
    },
    {
      "cell_type": "markdown",
      "metadata": {},
      "source": [
        "\n",
        "Разобравшись, что перебирать, перейдём к вопросу о том, как оценивать. Есть два основных подхода:\n",
        "\n",
        "*   Train-Val-Test split. Датасет делится на три части, на одной модели учатся, на другой подбираются гиперпараметры, на третьей считаются финальные метрики. Этот метод довольно шумный, зато быстрый.\n",
        "*   Кроссвалидация. Она значительно дольше, но надёжней. В этом пункте мы воспользуемся именно ей.\n",
        "\n",
        "\n",
        "Возьмите класс [GridSearchCV](https://scikit-learn.org/stable/modules/generated/sklearn.model_selection.GridSearchCV.html) из scikit-learn и с его помощью подберите гиперпараметр ```alpha``` для линейной регрессии с L2-регуляризацией (соответствующий класс зовут Ridge). Возможно, для минимизации разных метрик (_root_mean_squared_logarithmic_error_ и _mean_absolute_error_) понадобятся разные значения гиперпараметров. Выберите из сетки ```np.logspace(-3, 3, num=7, base=10.)``` значение, которое минимизирует _root_mean_squared_logarithmic_error_ для _ExponentialLinearRegression_ и\n",
        "\n",
        "**5. Загрузите оптимальное значение коэффициента регуляризации в Контест**.\n",
        "\n",
        "Параметр `cv` оставьте дефолтным или возьмите `cv=5` (результат не поменяется). Будьте внимательны: по умолчанию `best_score_` у `GridSearchCV` - это _самое большое значение_. Чтобы не попасться в эту ловушку, обратите внимание на параметр `greater_is_better` функции `make_scorer`."
      ]
    },
    {
      "cell_type": "code",
      "execution_count": 402,
      "metadata": {
        "id": "c_otnmqyK1uw",
        "pycharm": {
          "name": "#%%\n"
        }
      },
      "outputs": [
        {
          "name": "stdout",
          "output_type": "stream",
          "text": [
            "Best alpha for RMSLE: 10.0\n"
          ]
        }
      ],
      "source": [
        "from sklearn.model_selection import GridSearchCV\n",
        "\n",
        "rmsle_scorer = make_scorer(root_mean_squared_logarithmic_error, greater_is_better=False)\n",
        "\n",
        "pipeline_Exponential = Pipeline([\n",
        "    ('model', ExponentialLinearRegression())\n",
        "])\n",
        "\n",
        "param_grid = {\n",
        "    'model__alpha': np.logspace(-3, 3, num=7, base=10.)\n",
        "}\n",
        "\n",
        "grid_search_rmsle = GridSearchCV(estimator=pipeline_Exponential, param_grid=param_grid, scoring=rmsle_scorer, cv=5)\n",
        "grid_search_rmsle.fit(X_train, Y_train)\n",
        "\n",
        "print(\"Best alpha for RMSLE:\", grid_search_rmsle.best_params_['model__alpha'])"
      ]
    },
    {
      "cell_type": "markdown",
      "metadata": {},
      "source": [
        "Почему мы использовали пайплайн, а не просто model = ExponentialLinearRegression()?\n",
        "\n",
        "Когда вы используете GridSearchCV с пайплайном, он автоматически обрабатывает внутренние шаги пайплайна и правильно передает параметры для настройки. Однако, когда вы передаете просто модель, GridSearchCV не знает, как правильно обрабатывать параметры модели, особенно если параметры находятся внутри пайплайна. Если вы передаете только модель, то GridSearchCV пытается применить параметры напрямую к модели, что может привести к ошибкам, если модель не инициализирована правильно или параметры не передаются корректно.\n",
        "\n",
        "\n",
        "\n"
      ]
    },
    {
      "cell_type": "markdown",
      "metadata": {},
      "source": [
        "Почему мы использовали X_train, а не X_concatenated?\n",
        "\n",
        "В данном случае мы используем `X_train` и `Y_train` для настройки модели и поиска лучших гиперпараметров, поскольку цель `GridSearchCV` — выбрать наилучшие параметры модели на основе кросс-валидации на обучающем наборе данных. Вот почему использование `X_train` и `Y_train` является стандартной практикой:\n",
        "\n",
        "1. **Целостность данных:** При обучении и оценке модели, важно, чтобы данные для кросс-валидации и тестирования были независимыми. Если бы вы использовали весь набор данных (`X_train + X_test`) для кросс-валидации, это могло бы привести к переоценке модели, поскольку данные для кросс-валидации и для тестирования были бы перепутаны.\n",
        "\n",
        "2. **Кросс-валидация:** `GridSearchCV` разделяет данные `X_train` и `Y_train` на несколько подмножеств (фолдов) и выполняет кросс-валидацию. Это позволяет более надежно оценить производительность модели на различных подмножествах данных и избежать переобучения. Если бы вы использовали весь набор данных, то результат оценки мог бы быть неточным.\n",
        "\n",
        "3. **Тестирование:** После того как вы определили лучшие параметры с помощью `GridSearchCV` на обучающих данных, вы используете `X_test` и `Y_test` для окончательной оценки модели, чтобы получить представление о ее производительности на данных, которые модель не видела ранее.\n",
        "\n",
        "4. **Разделение данных:** Важно держать тестовые данные полностью вне процесса подбора гиперпараметров и кросс-валидации. Это гарантирует, что окончательная оценка модели будет объективной и не предвзятой.\n",
        "\n",
        "Поэтому, в процессе настройки модели и подбора гиперпараметров, мы используем только обучающий набор данных. `X_test` и `Y_test` используются отдельно для окончательной проверки производительности модели после того, как наилучшие гиперпараметры были выбраны."
      ]
    },
    {
      "cell_type": "markdown",
      "metadata": {
        "id": "lUYa5U1gK1uw"
      },
      "source": [
        "### 6. Линейная модель своими руками\n",
        "\n",
        "В этом разделе вы напишете собственный класс линейной модели, чтобы лучше разобраться, как работает обучение с помощью SGD."
      ]
    },
    {
      "cell_type": "markdown",
      "metadata": {
        "id": "3-d2onzaK1uw"
      },
      "source": [
        "Линейная модель делает предсказание по такой формуле:\n",
        "$$\n",
        "\\hat{y_i} = \\langle \\vec{w}, \\vec{x_i} \\rangle + b\n",
        "$$\n",
        "Здесь $\\vec{w}$ и b - обучаемые параметры. $\\vec{x_i}$ - вектор фичей данного примера.\n",
        "$\\vec{w}$ и b находятся из задачи минимизации лосс функции:\n",
        "\n",
        "$$\n",
        "\\vec{w}, b = {argmin}_{\\vec{w}, b}(L) \\ ; \\ L = \\frac{1}{N} \\sum_{i=1}^{N} (y_i - \\hat{y_i})^2 + \\lambda \\vec{w}^T\\vec{w}\n",
        "$$"
      ]
    },
    {
      "cell_type": "markdown",
      "metadata": {},
      "source": [
        "Наша лосс функция состоит из:\n",
        "\n",
        "1. MSE: \n",
        "   $$\n",
        "   \\frac{1}{N} \\sum_{i=1}^{N} (y_i - \\hat{y}_i)^2 \n",
        "   $$\n",
        "\n",
        "2. L2 регуляризация: \n",
        "   $$\n",
        "   \\lambda \\vec{w}^T \\vec{w}\n",
        "   $$\n",
        "\n",
        "Почему формула L2 регуляризации такая, а не $\\lambda \\sum_{j=1}^{d} w_j^2$?\n",
        "\n",
        "Векторное представление $\\vec{w}^T\\vec{w}$ в лосс функции соответствует сумме квадратов элементов вектора $\\vec{w}$:\n",
        "\n",
        "- Пусть $\\vec{w}$ — это вектор $[w_1, w_2, \\ldots, w_d]$, где $d$ — количество фичей (размерность вектора).\n",
        "\n",
        "- Произведение $\\vec{w}^T \\vec{w}$ — это скалярное произведение вектора $\\vec{w}$ на себя:\n",
        "  $$\n",
        "  \\vec{w}^T \\vec{w} = w_1^2 + w_2^2 + \\ldots + w_d^2\n",
        "  $$\n",
        "\n",
        "Таким образом, выражение $\\lambda \\vec{w}^T \\vec{w}$ — это просто удобное матрично-векторное представление $L2$-регуляризации. Оно эквивалентно $\\lambda \\sum_{j=1}^{d} w_j^2$, что и есть штраф, добавляемый за большие значения весов, чтобы предотвратить переобучение."
      ]
    },
    {
      "cell_type": "markdown",
      "metadata": {
        "id": "SMisQdSGK1uw"
      },
      "source": [
        "Задачу минимизации лосс функции мы будем решать градиентным спуском. Для этого надо найти градиенты лосса по параметром модели."
      ]
    },
    {
      "cell_type": "markdown",
      "metadata": {
        "id": "RaB_KihjK1uw"
      },
      "source": [
        "$$\n",
        "\\nabla_b L = \\frac{2}{N} sum(X \\vec{w} + b - \\vec{y})\\\\\n",
        "\\nabla_{\\vec{w}} L = \\frac{2}{N} X^T(X \\vec{w} + b - \\vec{y}) + 2\\lambda \\vec{w}\n",
        "$$"
      ]
    },
    {
      "cell_type": "markdown",
      "metadata": {
        "id": "Ka0Q5OI6K1ux"
      },
      "source": [
        "Теперь давайте реализуем этот алгоритм ввиде класса с методами fit-predict.\n",
        "Что в нем должно быть:\n",
        "1. Класс должен называться ```SGDLinearRegressor```\n",
        "2. Класс должен быть отнаследован от sklearn-овского класса [RegressorMixin](https://scikit-learn.org/stable/modules/generated/sklearn.base.RegressorMixin.html)\n",
        "3. Класс должен инициализироваться со следующими гиперпараметрами:\n",
        "\n",
        "    a. ```lr``` — learning rate. Длина шага градиентного спуска\n",
        "\n",
        "    b. ```regularization``` — коэффициент λ из формулы выше\n",
        "    \n",
        "    c. ```delta_converged``` — устанавливает условие окончание обучение. В тот момент когда норма разности весов на соседних шагах градиентного спуска меньше чем ```delta_converged``` алгоритм перкращает обновлять веса\n",
        "    \n",
        "    d. ```max_steps``` — максимальное число шагов градиентного спуска\n",
        "    \n",
        "    e. ```batch_size``` — размер батча\n",
        "\n",
        "4. Реализуйте **стохастический** градиентный спуск. На каждом шагу градиентного спуска должен формироваться батч размера ```batch_size``` из матрицы признаков. Это нужно для того чтобы алгоритм быстрее сходился. Батч может выбираться случайно на каждом шаге градиентного спуска, либо каждую эпоху можно перемешивать трейн выборку и итерироваться батчами по ней."
      ]
    },
    {
      "cell_type": "markdown",
      "metadata": {
        "id": "WFIb9mjWK1ux",
        "pycharm": {
          "name": "#%% md\n"
        }
      },
      "source": [
        "Обратите внимание при реализации SGD на следующие моменты (частые ошибки):\n",
        "* не перепутайте, какие коэффициенты в SGD стоят при самой функции потерь, а какие — при регуляризационном члене. Правильный вариант: $\\frac{\\alpha}{batch\\_size}$ при градиенте MSE, $\\alpha\\lambda$ при градиенте регуляризатора.\n",
        "* для остановки нужно сравнивать норму, а не ее квадрат\n",
        "* для правильного решения нужно не итерироваться по батчу,  а перемножать матрицы (иначе не зайдет по TL)\n",
        "* метод `predict` должен возвращать одномерный numpy array (не двумерный вектор-столбец формы (X.shape[1], 1))"
      ]
    },
    {
      "cell_type": "code",
      "execution_count": 403,
      "metadata": {
        "id": "AYmQ4zSkK1ux",
        "pycharm": {
          "name": "#%%\n"
        }
      },
      "outputs": [],
      "source": [
        "class SGDLinearRegressor(RegressorMixin):\n",
        "    def __init__(self,\n",
        "                 lr=0.01, regularization=1., delta_converged=1e-3, max_steps=1000,\n",
        "                 batch_size=64):\n",
        "        self.lr = lr\n",
        "        self.regularization = regularization\n",
        "        self.max_steps = max_steps\n",
        "        self.delta_converged = delta_converged\n",
        "        self.batch_size = batch_size\n",
        "\n",
        "        self.W = None\n",
        "        self.b = None\n",
        "\n",
        "    def fit(self, X, Y):\n",
        "        n_samples, n_features = X.shape # n_samples - количество строк (количество примеров); n_features - количество признаков\n",
        "        # Инициализация весов и смещения\n",
        "        self.W = np.zeros(n_features)\n",
        "        self.b = 0\n",
        "\n",
        "        for step in range(self.max_steps):\n",
        "            # Перемешиваем данные для создания случайных батчей\n",
        "            indices = np.arange(n_samples) # аналог функции 'range' только создается одномерный массив \n",
        "            np.random.shuffle(indices) # перемешаем индексы\n",
        "            X_shuffled = X[indices]\n",
        "            Y_shuffled = Y[indices]\n",
        "\n",
        "            for start_idx in range(0, n_samples, self.batch_size): # от 0 до n_samples с шагом batch_size\n",
        "                end_idx = start_idx + self.batch_size\n",
        "                X_batch = X_shuffled[start_idx:end_idx]\n",
        "                Y_batch = Y_shuffled[start_idx:end_idx]\n",
        "\n",
        "                # Предсказание\n",
        "                Y_pred = np.dot(X_batch, self.W) + self.b\n",
        "                \n",
        "                # Вычисление градиентов\n",
        "                error = Y_pred - Y_batch\n",
        "                grad_w = (2 / self.batch_size) * np.dot(X_batch.T, error) + 2 * self.regularization * self.W\n",
        "                grad_b = (2 / self.batch_size) * np.sum(error)\n",
        "\n",
        "                # Обновление весов и смещения\n",
        "                self.W -= self.lr * grad_w\n",
        "                self.b -= self.lr * grad_b\n",
        "\n",
        "            # Проверка условия остановки\n",
        "            if np.linalg.norm(self.lr * grad_w) < self.delta_converged:\n",
        "                break\n",
        "\n",
        "    def predict(self, X):\n",
        "        return np.dot(X, self.W) + self.b"
      ]
    },
    {
      "cell_type": "markdown",
      "metadata": {},
      "source": [
        "### Понятие стохастического градиентного спуска\n",
        "\n",
        "- **Градиентный спуск** — это алгоритм оптимизации, используемый для минимизации функции потерь. Он обновляет параметры модели (например, веса) путем перемещения в направлении, противоположном градиенту функции потерь. Это позволяет находить минимум функции.\n",
        "\n",
        "- **Стохастический градиентный спуск (SGD)** — это разновидность градиентного спуска, в которой обновление параметров происходит для одного или нескольких случайно выбранных примеров из обучающего набора данных, а не для всех примеров. Это делает алгоритм более быстрым и позволяет избежать локальных минимумов за счет добавления \"шумов\" в процесс обновления.\n",
        "\n",
        "### Использование батчей\n",
        "\n",
        "- **Батч (Batch)** — это подмножество данных, которое используется для одного обновления параметров модели. Обучение с использованием батчей находится между двумя крайностями: полным градиентным спуском (использует весь набор данных за раз) и SGD (использует один пример за раз).\n",
        "\n",
        "- **Размер батча (batch size)** — это количество примеров, которые обрабатываются перед обновлением параметров модели. Например, если у вас 1000 примеров и размер батча равен 100, то за одну эпоху алгоритм сделает 10 шагов.\n",
        "\n",
        "### Алгоритм с батчами\n",
        "\n",
        "1. **Перемешивание данных**: На каждой эпохе или каждом шаге обучения данные перемешиваются, чтобы батчи были случайными. Это помогает избежать систематической ошибки, которая может возникнуть, если данные имеют какую-то внутреннюю упорядоченность.\n",
        "\n",
        "2. **Формирование батчей**: После перемешивания данные разбиваются на батчи фиксированного размера (`batch_size`). Каждый батч будет использоваться для вычисления градиентов и обновления параметров модели.\n",
        "\n",
        "3. **Обновление параметров**: Для каждого батча:\n",
        "   - Вычисляются предсказания модели.\n",
        "   - Вычисляется ошибка и градиенты функции потерь.\n",
        "   - Параметры модели обновляются с учетом вычисленных градиентов."
      ]
    },
    {
      "cell_type": "code",
      "execution_count": 404,
      "metadata": {
        "id": "DanmLPpaK1ux",
        "pycharm": {
          "name": "#%%\n"
        }
      },
      "outputs": [
        {
          "name": "stdout",
          "output_type": "stream",
          "text": [
            "(586,) (586,)\n",
            "MAE :  25510.549825215567\n",
            "Mean log :  0.18862893826280525\n"
          ]
        }
      ],
      "source": [
        "# Check yourself\n",
        "model = SGDLinearRegressor()\n",
        "model.fit(X_train, Y_train)\n",
        "\n",
        "prediction = model.predict(X_test)\n",
        "print(Y_test.shape, prediction.shape)\n",
        "print(\"MAE : \", mean_absolute_error(Y_test, prediction))\n",
        "print(\"Mean log : \", root_mean_squared_logarithmic_error(Y_test, prediction))"
      ]
    },
    {
      "cell_type": "markdown",
      "metadata": {
        "id": "gdVXFO2aK1ux"
      },
      "source": [
        "### 7. Категориальные признаки"
      ]
    },
    {
      "cell_type": "markdown",
      "metadata": {
        "id": "npUKbcsbK1ux"
      },
      "source": [
        "В самом начале ноутбука мы отбросили категориальные фичи, хотя они могут помочь нам сделать модель лучше. Давайте же научимся ими пользоваться.\n",
        "\n",
        "Самый простой подход — это закодировать значения категориального признака числами, скажем, от $0$ до $C-1$, где $C$ — количество значений категориального признака. Иногда это может сработать, но для этого нужно, чтобы между значениями признака были определены отношения больше/меньше (такие признаки называются _ординальными_), причём соотношения между значениями должны быть более-менее линейными. В целом, не очень частая ситуация, поэтому так мы делать не будем.\n",
        "\n",
        "Вместо этого мы будем использовать OneHotEncoding. Пусть некоторая категориальная фича имеет $C$ уникальных значений. Давайте эту фичу закодируем в виде $C$ столбцов, каждый из которых соответствует некоторому уникальному значению категориальной фичи. Для каждого элемента выборки будем класть единичку в столбец, соответствующий этой фиче, и нолики в остальные.\n",
        "\n",
        "У этого метода есть недостаток. Если категориальная фича принимает слишком много значений, то вы нагенерируете много новых столбцов, каждый из которых будет содержать мало информации. Из-за них моделька может переобучиться.\n",
        "\n",
        "Этот метод имплементирован [здесь](https://scikit-learn.org/stable/modules/generated/sklearn.preprocessing.OneHotEncoder.html). У него есть пара важных гиперпараметров, которые стоит упомянуть:\n",
        "- ```handle_unknown``` - управляет обработкой незнакомых категорий на этапе `transform`. Число уникальных значений (и число столбцов) настраивается на обучающей выборке, и при дальнейшем применении может появиться значение, которого ещё не было. Если указать ```handle_unknown=\"ignore\"```, все поля для такого объекта будут заполнены нулями.\n",
        "- ```drop``` - если делать one-hot-encoding так как это описано выше, то сумма всех столбцов, соответствующих значениям категориальной фичи, будет равна единичному вектору. А такой вектор уже есть (он соответствует свободному члену). То есть признаки становятся линейно зависимыми, и это сломает процесс обучения линейной модели. Поэтому есть смысл для каждой фичи отбрасывать одну из получившихся колонок (```drop=\"first\"```) или хотя бы делать это только для бинарных фичей (```drop=\"if_binary\"```)"
      ]
    },
    {
      "cell_type": "markdown",
      "metadata": {},
      "source": [
        "Подробнее о drop.\n",
        "\n",
        "### Что такое мультиколлинеарность?\n",
        "\n",
        "Мультиколлинеарность возникает, когда в наборе данных есть два или более признаков (столбца), которые сильно связаны между собой. В контексте линейных моделей это проблема, потому что модель не может четко определить, какой именно признак влияет на целевую переменную. В результате это может привести к нестабильным коэффициентам модели.\n",
        "\n",
        "### Почему возникает проблема с one-hot-encoding?\n",
        "\n",
        "Когда мы используем one-hot-encoding, мы создаем новый столбец для каждого возможного значения категориальной переменной. Например, если у нас есть переменная \"Цвет\" с тремя значениями: \"Красный\", \"Зеленый\", \"Синий\", то one-hot-encoding создаст три столбца. Каждый объект будет представлен как вектор с одной единицей и двумя нулями. Например:\n",
        "- \"Красный\" будет (1, 0, 0)\n",
        "- \"Зеленый\" будет (0, 1, 0)\n",
        "- \"Синий\" будет (0, 0, 1)\n",
        "\n",
        "Если у нас в наборе данных есть столбец-свободный член (например, константа 1), сумма этих столбцов для каждой строки всегда равна 1. Это и создает избыточность, так как мы можем предсказать значение любого из этих столбцов, зная другие.\n",
        "\n",
        "\n",
        "Проблема в том, что сумма всех этих векторов для любой строки будет равна 1, если у тебя есть столбец-свободный член в модели (например, столбец с единицами). Это создает линейную зависимость: один из этих векторов можно выразить через другие. Именно эта зависимость и называется мультиколлинеарностью, и она может осложнять обучение модели, особенно линейной, потому что модель не сможет различить влияние различных признаков на целевую переменную.\n",
        "\n",
        "### Пример с зависимостью\n",
        "\n",
        "Если у нас есть три столбца \"Цвет_Красный\", \"Цвет_Зеленый\" и \"Цвет_Синий\", то любой из них можно выразить через два других:\n",
        "\n",
        "- \"Цвет_Красный\" = 1 - (\"Цвет_Зеленый\" + \"Цвет_Синий\")\n",
        "\n",
        "Это значит, что информация в одном из этих столбцов полностью определяется информацией в других. Поэтому, чтобы избежать этой избыточности и обеспечить модель нужной информацией без зависимости, удаляют один из столбцов. В таком случае каждая категория по-прежнему будет однозначно идентифицироваться, но уже без линейной зависимости между признаками. \n",
        "\n",
        "### Преимущество удаления столбца\n",
        "\n",
        "Когда один столбец удален, например \"Цвет_Красный\", модель по оставшимся столбцам может однозначно определить все возможные категории:\n",
        "\n",
        "- (0, 0) будет \"Красный\"\n",
        "- (1, 0) будет \"Зеленый\"\n",
        "- (0, 1) будет \"Синий\"\n",
        "\n",
        "Эта методика исключает лишнюю информацию и делает обучение модели более стабильным.\n",
        "\n",
        "Таким образом, удаление одного столбца при one-hot-encoding помогает избежать проблемы мультиколлинеарности и делает модель более устойчивой и надежной."
      ]
    },
    {
      "cell_type": "markdown",
      "metadata": {
        "id": "V0es5bKeK1ux"
      },
      "source": [
        "В этом пункте вам надо еще раз предобработать данные, добавив в них часть категориальных фичей, закодированных OneHotEncoding-ом. После этого обучите классификатор заново и выбейте лучшую метрику на тестовой выборке. А именно, мы добавим фичи \"Overall_Qual\", \"Garage_Qual\", \"Sale_Condition\", \"MS_Zoning\". Используйте значение параметра handle_unknown=\"ignore\".\n",
        "\n",
        "*На практике в некоторых версиях scikit-learn есть проблема с совместимостью `handle_unknown=\"ignore\"` и `drop=\"first\"` одновременно, поэтому вторым можно пожертвовать.\n",
        "\n",
        "Класс будет наследоваться от BaseDataPreprocessor, так что в него можно будет передавать нужные для BaseDataPreprocessor параметры. Также это позволит не переписывать заново то, что происходит в базовом классе, а просто взывать к ним с помощью конструкции `super`."
      ]
    },
    {
      "cell_type": "code",
      "execution_count": 405,
      "metadata": {
        "id": "GLKyWMP1K1ux",
        "pycharm": {
          "name": "#%%\n"
        }
      },
      "outputs": [],
      "source": [
        "from sklearn.preprocessing import OneHotEncoder\n",
        "\n",
        "interesting_columns = [\"Overall_Qual\", \"Garage_Qual\", \"Sale_Condition\", \"MS_Zoning\"]\n",
        "\n",
        "class OneHotPreprocessor(BaseDataPreprocessor):\n",
        "    def __init__(self, columns_to_encode: List[str], continue_columns: Optional[List[str]]):\n",
        "        super().__init__(needed_columns=continue_columns)\n",
        "        self.columns_to_encode = columns_to_encode\n",
        "        self.encoder = OneHotEncoder(handle_unknown='ignore')\n",
        "\n",
        "    def fit(self, data: pd.DataFrame, *args):\n",
        "        # Fit the encoder only on the specified columns\n",
        "        self.encoder.fit(data[self.columns_to_encode])\n",
        "        # Fit the scaler using the parent class method \n",
        "        super().fit(data, *args) # Это для масштабирования числовых признаков.\n",
        "                                 # В родительском методе fit у BaseDataPreprocessor есть фильтрация needed_columns,\n",
        "                                 # так что ничего страшного в том, что мы передаем все данные (категориальные + числовые)\n",
        "        return self\n",
        "\n",
        "    def transform(self, data: pd.DataFrame) -> np.array:\n",
        "        # One-hot encode the specified columns\n",
        "        data_encoded = self.encoder.transform(data[self.columns_to_encode])\n",
        "        # Scale the other columns using the parent class method\n",
        "        data_scaled = super().transform(data) # Тут так же в методе transform у родительского класса BaseDataPreprocessor есть фильтрация needed_columns\n",
        "        # Concatenate the encoded and scaled data\n",
        "        return np.concatenate((data_encoded.toarray(), data_scaled), axis=1)\n"
      ]
    },
    {
      "cell_type": "markdown",
      "metadata": {
        "id": "v80RppKdK1ux"
      },
      "source": [
        "Обучите модель с добавленными категориальными фичами. Получилось ли улучшить её качество?"
      ]
    },
    {
      "cell_type": "code",
      "execution_count": 406,
      "metadata": {},
      "outputs": [
        {
          "name": "stdout",
          "output_type": "stream",
          "text": [
            "RMSLE : 0.21601027716185434\n",
            "RMSLE (One hot encoder) : 0.18560982800718145\n"
          ]
        }
      ],
      "source": [
        "# Без кодирования\n",
        "model = ExponentialLinearRegression()\n",
        "model.fit(X_train, Y_train)\n",
        "\n",
        "base_prediction = model.predict(X_test)\n",
        "print(\"RMSLE :\", root_mean_squared_logarithmic_error(Y_test, base_prediction))\n",
        "\n",
        "# C one hot кодированием\n",
        "ohe_preprocessor = OneHotPreprocessor(interesting_columns, continuous_columns)\n",
        "X_train_ohe = ohe_preprocessor.fit_transform(data_train)\n",
        "X_test_ohe = ohe_preprocessor.transform(data_test)\n",
        "\n",
        "model = ExponentialLinearRegression()\n",
        "model.fit(X_train_ohe, Y_train)\n",
        "\n",
        "ohe_prediction = model.predict(X_test_ohe)\n",
        "print(\"RMSLE (One hot encoder) :\", root_mean_squared_logarithmic_error(Y_test, ohe_prediction))\n"
      ]
    },
    {
      "cell_type": "markdown",
      "metadata": {
        "id": "fWYh1NPbK1uy"
      },
      "source": [
        "### 8. Pipeline"
      ]
    },
    {
      "cell_type": "markdown",
      "metadata": {
        "id": "PlzhlXoLK1uy"
      },
      "source": [
        "Представьте ситуацию. Прошел месяц с того момента, как вы построили модель, а теперь вам надо дообучить её на новых данных и активно применять для предсказания. Если вы не позаботились об инфраструктуре, то вам придётся рыскать по всему ноутбуку в поисках того, как вы предобрабатывали данные, какую модель учили, обязательно что-нибудь забудете и будете очень страдать. Поэтому человечество придумало пайплайны, которые позволяют объединить предобработку данных и обучение модели в один класс — pipeline. Его можно писать самому, либо взять из sklearn ([link](https://scikit-learn.org/stable/modules/generated/sklearn.pipeline.Pipeline.html)).\n",
        "\n",
        "**7. Напишите пайплайн, объединяющий использованную нами базовую предобработку данных (BaseDataPreprocessor и OneHotPreprocessor), а также линейную регрессию с L2-регуляризацией, и сдайте его в Контест.**"
      ]
    },
    {
      "cell_type": "code",
      "execution_count": 407,
      "metadata": {
        "id": "a6udrWyYK1uy",
        "pycharm": {
          "name": "#%%\n"
        }
      },
      "outputs": [],
      "source": [
        "def make_ultimate_pipeline(continuous_columns, categorical_columns):\n",
        "    one_hot_preprocessor = OneHotPreprocessor(columns_to_encode=categorical_columns, continue_columns=continuous_columns)\n",
        "    \n",
        "    # Пайплайн с двумя препроцессорами и линейной регрессией\n",
        "    pipeline = Pipeline([\n",
        "        ('preprocessorOneHot', one_hot_preprocessor), # Масштабирование данных числовых фичей включено\n",
        "        ('regressor', ExponentialLinearRegression())\n",
        "    ])\n",
        "    \n",
        "    return pipeline"
      ]
    },
    {
      "cell_type": "code",
      "execution_count": 408,
      "metadata": {},
      "outputs": [
        {
          "name": "stdout",
          "output_type": "stream",
          "text": [
            "RMSLE (Pipeline): 0.16879940919250203\n"
          ]
        }
      ],
      "source": [
        "pipeline = make_ultimate_pipeline(continuous_columns, categorical_columns)\n",
        "pipeline.fit(data_train, Y_train)\n",
        "y_pred = pipeline.predict(data_test)\n",
        "\n",
        "print(\"RMSLE (Pipeline):\", root_mean_squared_logarithmic_error(Y_test, y_pred))"
      ]
    },
    {
      "cell_type": "markdown",
      "metadata": {},
      "source": [
        "Ранее мы получили RMSLE (One hot encoder) : 0.18560982800718145 </br>\n",
        "Сейчас мы получили RMSLE (Pipeline): 0.16879940919250203\n",
        "\n",
        "Почему метрика стала чуть лучше?\n",
        "Возможно, потому что пайплайн может включать дополнительные шаги или оптимизации, которые неявно выполняются, например, правильное обращение с пропущенными значениями или кодирование категорий, которое отличается от ручного подхода."
      ]
    },
    {
      "cell_type": "markdown",
      "metadata": {
        "id": "XqmOG-epK1uz"
      },
      "source": [
        "В этом пункте вы попробуете сделать что-то поинтереснее и загрузите плоды ваших трудов в Контест.\n",
        "\n",
        "Попробуйте усовершенствовать предобработку данных, добавляя или выкидывая фичи, придумывая функции от признаков так, чтобы улучшить качество классификатора.\n",
        "\n",
        "Ещё несколько базовых идей о том, что можно было бы попробовать:\n",
        "\n",
        "- Постройте гистограммы значений признаков. Вы обнаружите, что некоторые из них почти всегда принимают одно и то же значение. Для начала их можно просто выкинуть.\n",
        "- Почистите выбросы. У некоторых объектов значения каких-то признаков могут сильно выбиваться, и это будет мешать регрессии обучиться. Вообще говоря, такие объекты можно выкидывать, но с текущей архитектурой пайплайна вам будет трудно это настроить. Так что вы можете пока заменять их на более разумные значения.\n",
        "- Мы добавили лишь несколько категориальных признаков, а на самом деле многие из них могут быть полезными.\n",
        "- Можно дискретизовать непрерывные фичи. Самый банальный пример: если непрерывная фича принимает всего несколько значений, её можно попробовать проинтерпретировать, как категориальную, и подать в one-hot энкодер. Но можно и как-то ещё разбивать по порогам.\n",
        "- Можно делать и более сложные преобразования. Например в датасете есть координаты квартиры, которые по идее сами по себе мало чего дают нашему регрессору. С другой стороны, по ним можно оценить центр города (или просто найти его на карте) и использовать в качестве фичи расстояние до центра города, которое может естественным образом влиять на цену жилья.\n",
        "- Не забывайте настраивать коэффициент регуляризации: для разных датасетов оптимальное значение будет разным.\n",
        "\n",
        "**В контест вам нужно будет сдать свой класс модели**. Он будет обучаться и тестироваться на новом и неизвестном вам разбиении датасета на трейн и тест по метрике `root_mean_squared_logarithmic_error`.\n",
        "В контесте будет специально проверено, что вы сдаёте именно `Pipeline`.\n",
        "\n",
        "Не забывайте, что вместе с пайплайном вам нужно отправить и все самописные классы, которые в нём участвуют.\n"
      ]
    },
    {
      "cell_type": "code",
      "execution_count": 409,
      "metadata": {},
      "outputs": [
        {
          "data": {
            "image/png": "[encoded data removed]",
            "text/plain": [
              "<Figure size 1500x1000 with 36 Axes>"
            ]
          },
          "metadata": {},
          "output_type": "display_data"
        },
        {
          "name": "stdout",
          "output_type": "stream",
          "text": [
            "Удаляем признаки с низкой вариативностью: ['Year_Sold', 'Longitude', 'Latitude']\n"
          ]
        }
      ],
      "source": [
        "# Построение гистограмм и удаление неинформативных признаков\n",
        "\n",
        "import matplotlib.pyplot as plt\n",
        "\n",
        "# Функция для построения гистограмм для числовых признаков\n",
        "def plot_histograms(data: pd.DataFrame):\n",
        "    numeric_data = data.select_dtypes(include=[np.number])\n",
        "    numeric_data.hist(bins=30, figsize=(15, 10))\n",
        "    plt.tight_layout()\n",
        "    plt.show()\n",
        "\n",
        "# Удаление признаков с низкой вариативностью для числовых признаков\n",
        "def remove_low_variance_features(data: pd.DataFrame, threshold: float = 0.01) -> pd.DataFrame:\n",
        "    numeric_data = data.select_dtypes(include=[np.number])\n",
        "    low_variance_cols = [col for col in numeric_data.columns if numeric_data[col].std() / (numeric_data[col].mean() if numeric_data[col].mean() != 0 else 1) < threshold]\n",
        "    print(f\"Удаляем признаки с низкой вариативностью: {low_variance_cols}\")\n",
        "    return data.drop(columns=low_variance_cols)\n",
        "\n",
        "plot_histograms(data_train)\n",
        "clear_data_train = remove_low_variance_features(data_train)\n"
      ]
    },
    {
      "cell_type": "code",
      "execution_count": 416,
      "metadata": {},
      "outputs": [
        {
          "name": "stdout",
          "output_type": "stream",
          "text": [
            "Column: Lot_Frontage\n",
            "Q1: 42.0, Q3: 78.0, IQR: 36.0\n",
            "Lower bound: -12.0, Upper bound: 132.0\n",
            "Median: 63.0\n",
            "Column: Lot_Area\n",
            "Q1: 8125.0, Q3: 10625.0, IQR: 2500.0\n",
            "Lower bound: 4375.0, Upper bound: 14375.0\n",
            "Median: 9451.0\n",
            "Column: Year_Built\n",
            "Q1: 1954.0, Q3: 2000.0, IQR: 46.0\n",
            "Lower bound: 1885.0, Upper bound: 2069.0\n",
            "Median: 1973.0\n",
            "Column: Year_Remod_Add\n",
            "Q1: 1964.0, Q3: 2003.0, IQR: 39.0\n",
            "Lower bound: 1905.5, Upper bound: 2061.5\n",
            "Median: 1992.0\n",
            "Column: Mas_Vnr_Area\n",
            "Q1: 0.0, Q3: 0.0, IQR: 0.0\n",
            "Lower bound: 0.0, Upper bound: 0.0\n",
            "Median: 0.0\n",
            "Column: BsmtFin_SF_1\n",
            "Q1: 3.0, Q3: 7.0, IQR: 4.0\n",
            "Lower bound: -3.0, Upper bound: 13.0\n",
            "Median: 3.0\n",
            "Column: BsmtFin_SF_2\n",
            "Q1: 0.0, Q3: 0.0, IQR: 0.0\n",
            "Lower bound: 0.0, Upper bound: 0.0\n",
            "Median: 0.0\n",
            "Column: Bsmt_Unf_SF\n",
            "Q1: 216.0, Q3: 732.5, IQR: 516.5\n",
            "Lower bound: -558.75, Upper bound: 1507.25\n",
            "Median: 457.0\n",
            "Column: Total_Bsmt_SF\n",
            "Q1: 816.0, Q3: 1246.5, IQR: 430.5\n",
            "Lower bound: 170.25, Upper bound: 1892.25\n",
            "Median: 992.0\n",
            "Column: First_Flr_SF\n",
            "Q1: 874.75, Q3: 1361.0, IQR: 486.25\n",
            "Lower bound: 145.375, Upper bound: 2090.375\n",
            "Median: 1080.0\n",
            "Column: Second_Flr_SF\n",
            "Q1: 0.0, Q3: 687.0, IQR: 687.0\n",
            "Lower bound: -1030.5, Upper bound: 1717.5\n",
            "Median: 0.0\n",
            "Column: Low_Qual_Fin_SF\n",
            "Q1: 0.0, Q3: 0.0, IQR: 0.0\n",
            "Lower bound: 0.0, Upper bound: 0.0\n",
            "Median: 0.0\n",
            "Column: Gr_Liv_Area\n",
            "Q1: 1120.0, Q3: 1686.0, IQR: 566.0\n",
            "Lower bound: 271.0, Upper bound: 2535.0\n",
            "Median: 1437.0\n",
            "Column: Bsmt_Full_Bath\n",
            "Q1: 0.0, Q3: 1.0, IQR: 1.0\n",
            "Lower bound: -1.5, Upper bound: 2.5\n",
            "Median: 0.0\n",
            "Column: Bsmt_Half_Bath\n",
            "Q1: 0.0, Q3: 0.0, IQR: 0.0\n",
            "Lower bound: 0.0, Upper bound: 0.0\n",
            "Median: 0.0\n",
            "Column: Full_Bath\n",
            "Q1: 1.0, Q3: 2.0, IQR: 1.0\n",
            "Lower bound: -0.5, Upper bound: 3.5\n",
            "Median: 2.0\n",
            "Column: Half_Bath\n",
            "Q1: 0.0, Q3: 1.0, IQR: 1.0\n",
            "Lower bound: -1.5, Upper bound: 2.5\n",
            "Median: 0.0\n",
            "Column: Bedroom_AbvGr\n",
            "Q1: 2.0, Q3: 3.0, IQR: 1.0\n",
            "Lower bound: 0.5, Upper bound: 4.5\n",
            "Median: 3.0\n",
            "Column: Kitchen_AbvGr\n",
            "Q1: 1.0, Q3: 1.0, IQR: 0.0\n",
            "Lower bound: 1.0, Upper bound: 1.0\n",
            "Median: 1.0\n",
            "Column: TotRms_AbvGrd\n",
            "Q1: 5.0, Q3: 7.0, IQR: 2.0\n",
            "Lower bound: 2.0, Upper bound: 10.0\n",
            "Median: 6.0\n",
            "Column: Fireplaces\n",
            "Q1: 0.0, Q3: 1.0, IQR: 1.0\n",
            "Lower bound: -1.5, Upper bound: 2.5\n",
            "Median: 1.0\n",
            "Column: Garage_Cars\n",
            "Q1: 1.0, Q3: 2.0, IQR: 1.0\n",
            "Lower bound: -0.5, Upper bound: 3.5\n",
            "Median: 2.0\n",
            "Column: Garage_Area\n",
            "Q1: 324.0, Q3: 576.0, IQR: 252.0\n",
            "Lower bound: -54.0, Upper bound: 954.0\n",
            "Median: 480.0\n",
            "Column: Wood_Deck_SF\n",
            "Q1: 0.0, Q3: 147.0, IQR: 147.0\n",
            "Lower bound: -220.5, Upper bound: 367.5\n",
            "Median: 0.0\n",
            "Column: Open_Porch_SF\n",
            "Q1: 0.0, Q3: 41.25, IQR: 41.25\n",
            "Lower bound: -61.875, Upper bound: 103.125\n",
            "Median: 26.0\n",
            "Column: Enclosed_Porch\n",
            "Q1: 0.0, Q3: 0.0, IQR: 0.0\n",
            "Lower bound: 0.0, Upper bound: 0.0\n",
            "Median: 0.0\n",
            "Column: Three_season_porch\n",
            "Q1: 0.0, Q3: 0.0, IQR: 0.0\n",
            "Lower bound: 0.0, Upper bound: 0.0\n",
            "Median: 0.0\n",
            "Column: Screen_Porch\n",
            "Q1: 0.0, Q3: 0.0, IQR: 0.0\n",
            "Lower bound: 0.0, Upper bound: 0.0\n",
            "Median: 0.0\n",
            "Column: Pool_Area\n",
            "Q1: 0.0, Q3: 0.0, IQR: 0.0\n",
            "Lower bound: 0.0, Upper bound: 0.0\n",
            "Median: 0.0\n",
            "Column: Misc_Val\n",
            "Q1: 0.0, Q3: 0.0, IQR: 0.0\n",
            "Lower bound: 0.0, Upper bound: 0.0\n",
            "Median: 0.0\n",
            "Column: Mo_Sold\n",
            "Q1: 4.0, Q3: 8.0, IQR: 4.0\n",
            "Lower bound: -2.0, Upper bound: 14.0\n",
            "Median: 6.0\n",
            "Column: Year_Sold\n",
            "Q1: 2007.0, Q3: 2009.0, IQR: 2.0\n",
            "Lower bound: 2004.0, Upper bound: 2012.0\n",
            "Median: 2008.0\n",
            "Column: Longitude\n",
            "Q1: -93.660534, Q3: -93.6224895, IQR: 0.03804449999999804\n",
            "Lower bound: -93.71760075, Upper bound: -93.56542275000001\n",
            "Median: -93.642242\n",
            "Column: Latitude\n",
            "Q1: 42.0222355, Q3: 42.050019500000005, IQR: 0.027784000000004028\n",
            "Lower bound: 41.9805595, Upper bound: 42.091695500000014\n",
            "Median: 42.034655\n"
          ]
        }
      ],
      "source": [
        "# Очистка выбросов\n",
        "\n",
        "# Метод межквартильного размаха (IQR) для определения и удаления выбросов в числовых данных\n",
        "def handle_outliers(data: pd.DataFrame) -> pd.DataFrame:\n",
        "    for column in data.select_dtypes(include=[np.number]).columns:\n",
        "        q1 = data[column].quantile(0.25)\n",
        "        q3 = data[column].quantile(0.75)\n",
        "        iqr = q3 - q1\n",
        "        lower_bound = q1 - 1.5 * iqr\n",
        "        upper_bound = q3 + 1.5 * iqr\n",
        "        median = data[column].median()\n",
        "        \n",
        "        print(f\"Column: {column}\")\n",
        "        print(f\"Q1: {q1}, Q3: {q3}, IQR: {iqr}\")\n",
        "        print(f\"Lower bound: {lower_bound}, Upper bound: {upper_bound}\")\n",
        "        print(f\"Median: {median}\")\n",
        "        \n",
        "        # Заменяем выбросы\n",
        "        data[column] = np.where(data[column] < lower_bound, median, data[column])\n",
        "        data[column] = np.where(data[column] > upper_bound, median, data[column])\n",
        "    \n",
        "    return data\n",
        "\n",
        "# Пример использования\n",
        "clear_data_train = handle_outliers(data_train)\n",
        "\n",
        "# Находим удаленные данные\n",
        "removed_data = data_train[~data_train.apply(tuple, axis=1).isin(clear_data_train.apply(tuple, axis=1))]"
      ]
    },
    {
      "cell_type": "code",
      "execution_count": 415,
      "metadata": {},
      "outputs": [
        {
          "data": {
            "text/html": [
              "<div>\n",
              "<style scoped>\n",
              "    .dataframe tbody tr th:only-of-type {\n",
              "        vertical-align: middle;\n",
              "    }\n",
              "\n",
              "    .dataframe tbody tr th {\n",
              "        vertical-align: top;\n",
              "    }\n",
              "\n",
              "    .dataframe thead th {\n",
              "        text-align: right;\n",
              "    }\n",
              "</style>\n",
              "<table border=\"1\" class=\"dataframe\">\n",
              "  <thead>\n",
              "    <tr style=\"text-align: right;\">\n",
              "      <th></th>\n",
              "      <th>MS_SubClass</th>\n",
              "      <th>MS_Zoning</th>\n",
              "      <th>Lot_Frontage</th>\n",
              "      <th>Lot_Area</th>\n",
              "      <th>Street</th>\n",
              "      <th>Alley</th>\n",
              "      <th>Lot_Shape</th>\n",
              "      <th>Land_Contour</th>\n",
              "      <th>Utilities</th>\n",
              "      <th>Lot_Config</th>\n",
              "      <th>...</th>\n",
              "      <th>Pool_QC</th>\n",
              "      <th>Fence</th>\n",
              "      <th>Misc_Feature</th>\n",
              "      <th>Misc_Val</th>\n",
              "      <th>Mo_Sold</th>\n",
              "      <th>Year_Sold</th>\n",
              "      <th>Sale_Type</th>\n",
              "      <th>Sale_Condition</th>\n",
              "      <th>Longitude</th>\n",
              "      <th>Latitude</th>\n",
              "    </tr>\n",
              "  </thead>\n",
              "  <tbody>\n",
              "  </tbody>\n",
              "</table>\n",
              "<p>0 rows × 80 columns</p>\n",
              "</div>"
            ],
            "text/plain": [
              "Empty DataFrame\n",
              "Columns: [MS_SubClass, MS_Zoning, Lot_Frontage, Lot_Area, Street, Alley, Lot_Shape, Land_Contour, Utilities, Lot_Config, Land_Slope, Neighborhood, Condition_1, Condition_2, Bldg_Type, House_Style, Overall_Qual, Overall_Cond, Year_Built, Year_Remod_Add, Roof_Style, Roof_Matl, Exterior_1st, Exterior_2nd, Mas_Vnr_Type, Mas_Vnr_Area, Exter_Qual, Exter_Cond, Foundation, Bsmt_Qual, Bsmt_Cond, Bsmt_Exposure, BsmtFin_Type_1, BsmtFin_SF_1, BsmtFin_Type_2, BsmtFin_SF_2, Bsmt_Unf_SF, Total_Bsmt_SF, Heating, Heating_QC, Central_Air, Electrical, First_Flr_SF, Second_Flr_SF, Low_Qual_Fin_SF, Gr_Liv_Area, Bsmt_Full_Bath, Bsmt_Half_Bath, Full_Bath, Half_Bath, Bedroom_AbvGr, Kitchen_AbvGr, Kitchen_Qual, TotRms_AbvGrd, Functional, Fireplaces, Fireplace_Qu, Garage_Type, Garage_Finish, Garage_Cars, Garage_Area, Garage_Qual, Garage_Cond, Paved_Drive, Wood_Deck_SF, Open_Porch_SF, Enclosed_Porch, Three_season_porch, Screen_Porch, Pool_Area, Pool_QC, Fence, Misc_Feature, Misc_Val, Mo_Sold, Year_Sold, Sale_Type, Sale_Condition, Longitude, Latitude]\n",
              "Index: []\n",
              "\n",
              "[0 rows x 80 columns]"
            ]
          },
          "execution_count": 415,
          "metadata": {},
          "output_type": "execute_result"
        }
      ],
      "source": [
        "removed_data"
      ]
    },
    {
      "cell_type": "markdown",
      "metadata": {},
      "source": [
        "Рассмотрим, например, Column: Lot_Frontage:\n",
        "\n",
        "1. **Q1 (Первый квартиль)**: Значение 42.0 означает, что 25% наблюдений в столбце `Lot_Frontage` имеют значения ниже 42.0.\n",
        "\n",
        "2. **Q3 (Третий квартиль)**: Значение 78.0 означает, что 75% наблюдений имеют значения ниже 78.0. \n",
        "\n",
        "3. **IQR (Межквартильный размах)**: Значение 36.0, которое рассчитывается как разница между Q3 и Q1 (78.0 - 42.0 = 36.0). IQR показывает диапазон значений, в котором находится центральные 50% данных.\n",
        "\n",
        "4. **Lower bound (Нижняя граница)**: Значение -12.0, рассчитываемое как `Q1 - 1.5 * IQR` (42.0 - 1.5 * 36.0 = -12.0). Все значения ниже этой границы считаются выбросами. Поскольку -12.0 — это значение ниже возможного диапазона для `Lot_Frontage`, оно является некорректным и в реальных данных выбросов ниже этого значения быть не может.\n",
        "\n",
        "5. **Upper bound (Верхняя граница)**: Значение 132.0, рассчитываемое как `Q3 + 1.5 * IQR` (78.0 + 1.5 * 36.0 = 132.0). Все значения выше этой границы считаются выбросами.\n",
        "\n",
        "6. **Median (Медиана)**: Значение 63.0 — это среднее значение данных в столбце `Lot_Frontage`.\n",
        "\n",
        "### Значение для нашего случая\n",
        "\n",
        "- **Нижняя граница** (-12.0) не имеет смысла, так как значения `Lot_Frontage` не могут быть отрицательными. Следовательно, все значения в столбце `Lot_Frontage` больше этой границы.\n",
        "  \n",
        "- **Верхняя граница** (132.0) — это максимальная допустимая граница для значений в столбце. Если есть значения выше этой границы, они считаются выбросами.\n",
        "\n",
        "### Как это объясняет ваш результат\n",
        "\n",
        "- Поскольку все значения в вашем столбце `Lot_Frontage` находятся между 42.0 и 78.0 и не превышают верхнюю границу 132.0, нет данных, которые были бы заменены на медиану. \n",
        "\n",
        "- В данном случае все данные в пределах допустимого диапазона.\n",
        "\n",
        "### Остальные случаи\n",
        "\n",
        "Аналогично рассмотрим остальные случаи и получим, что `removed_data` пуст."
      ]
    },
    {
      "cell_type": "markdown",
      "metadata": {},
      "source": [
        "Ранее мы вычисляли лучший гиперпараметр для ExponentialLinearRegression с обработанными данными X_train, теперь вычислим лучший гиперпараметр для Ridge() с данными clear_data_train"
      ]
    },
    {
      "cell_type": "code",
      "execution_count": 417,
      "metadata": {},
      "outputs": [
        {
          "name": "stdout",
          "output_type": "stream",
          "text": [
            "Лучший параметр alpha: 10.0\n"
          ]
        }
      ],
      "source": [
        "# 3. Настройка коэффициента регуляризации\n",
        "def tune_regularization(X, y):\n",
        "    ridge = Ridge()\n",
        "    params = {'alpha': [0.1, 1.0, 10.0, 100.0]}  # Пример значений\n",
        "    grid_search = GridSearchCV(ridge, params, cv=5, scoring='neg_mean_squared_log_error')\n",
        "    grid_search.fit(X, y)\n",
        "    print(f\"Лучший параметр alpha: {grid_search.best_params_['alpha']}\")\n",
        "    return grid_search.best_estimator_\n",
        "\n",
        "X_train_transformed = pipeline.named_steps['preprocessorOneHot'].transform(clear_data_train)\n",
        "best_model = tune_regularization(X_train_transformed, Y_train)\n"
      ]
    },
    {
      "cell_type": "code",
      "execution_count": 418,
      "metadata": {},
      "outputs": [],
      "source": [
        "def make_ultimate_pipeline_with_hyperparameter(continuous_columns, categorical_columns):\n",
        "    one_hot_preprocessor = OneHotPreprocessor(columns_to_encode=categorical_columns, continue_columns=continuous_columns)\n",
        "    \n",
        "    # Пайплайн с двумя препроцессорами и линейной регрессией\n",
        "    pipeline = Pipeline([\n",
        "        ('preprocessorOneHot', one_hot_preprocessor), # Масштабирование данных числовых фичей включено\n",
        "        ('regressor', Ridge(alpha=10.0)) # добавили, что гиперпараметр alpha = 10.0\n",
        "    ])\n",
        "    \n",
        "    return pipeline"
      ]
    },
    {
      "cell_type": "code",
      "execution_count": 420,
      "metadata": {},
      "outputs": [
        {
          "name": "stdout",
          "output_type": "stream",
          "text": [
            "RMSLE (New pipeline): 0.15545403665956997\n"
          ]
        }
      ],
      "source": [
        "pipeline = make_ultimate_pipeline_with_hyperparameter(continuous_columns, categorical_columns)\n",
        "pipeline.fit(clear_data_train, Y_train)\n",
        "y_pred = pipeline.predict(data_test)\n",
        "\n",
        "print(\"RMSLE (New pipeline):\", root_mean_squared_logarithmic_error(Y_test, y_pred))"
      ]
    },
    {
      "cell_type": "markdown",
      "metadata": {},
      "source": [
        "У нас получилось немного улучшить метрику! :)\n",
        "\n",
        "Было: RMSLE (Pipeline): 0.16879940919250203 </br>\n",
        "Стало: RMSLE (New pipeline): 0.15545403665956997"
      ]
    }
  ],
  "metadata": {
    "colab": {
      "provenance": []
    },
    "kernelspec": {
      "display_name": "Python 3 (ipykernel)",
      "language": "python",
      "name": "python3"
    },
    "language_info": {
      "codemirror_mode": {
        "name": "ipython",
        "version": 3
      },
      "file_extension": ".py",
      "mimetype": "text/x-python",
      "name": "python",
      "nbconvert_exporter": "python",
      "pygments_lexer": "ipython3",
      "version": "3.12.2"
    }
  },
  "nbformat": 4,
  "nbformat_minor": 0
}
